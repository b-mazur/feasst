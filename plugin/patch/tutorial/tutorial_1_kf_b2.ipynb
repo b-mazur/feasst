{
 "cells": [
  {
   "cell_type": "markdown",
   "metadata": {},
   "source": [
    "# Second virial coefficient calculation of a Kern-Frenkel patch using Mayer-Sampling\n",
    "\n",
    "\n",
    "Here, we reproduce the virial coefficient of a Kern-Frenkel patchy particle and compare to Eq. 8 of https://doi.org/10.1063/1.1569473"
   ]
  },
  {
   "cell_type": "code",
   "execution_count": 1,
   "metadata": {},
   "outputs": [],
   "source": [
    "import math\n",
    "import unittest\n",
    "import feasst as fst\n",
    "\n",
    "class TestMayerSamplingTrimer(unittest.TestCase):\n",
    "    def test(self):\n",
    "        mc = fst.MonteCarlo()\n",
    "        config = fst.MakeConfiguration(fst.args({\"cubic_box_length\": str(fst.NEAR_INFINITY)}))\n",
    "        config.add_particle_type(fst.install_dir() + \"/plugin/patch/forcefield/janus.fstprt\")\n",
    "        config.add_particle_type(fst.install_dir() + \"/plugin/patch/forcefield/janus.fstprt\", \"2\")\n",
    "        config.add(fst.MakeGroup(fst.args({\"site_type0\": \"0\", \"site_type1\": \"2\"})))\n",
    "        config.add_particle_of_type(0)\n",
    "        config.add_particle_of_type(1)\n",
    "        mc.add(config)\n",
    "        mc.add(fst.MakePotential(fst.MakeHardSphere(), fst.args({\"group_index\": \"1\"})))\n",
    "        mc.add(fst.MakePotential(fst.MakeSquareWell(),\n",
    "                                 fst.MakeVisitModel(fst.MakeVisitModelInnerPatch()),\n",
    "               fst.args({\"group_index\": \"1\"})))\n",
    "        mc.add_to_reference(fst.MakePotential(fst.MakeHardSphere(), fst.args({\"group_index\": \"1\"})))\n",
    "        beta = 0.1\n",
    "        mc.set(fst.MakeThermoParams(fst.args({\"beta\": str(beta)})))\n",
    "        mayer = fst.MakeMayerSampling()\n",
    "        mc.set(mayer)\n",
    "        mc.add(fst.MakeTrialTranslate(fst.args({\"new_only\": \"true\", \"reference_index\": \"0\",\n",
    "            \"tunable_param\": \"1\", \"particle_type\": \"1\"})))\n",
    "        mc.add(fst.MakeTrialRotate(fst.args({\"new_only\": \"true\", \"reference_index\": \"0\",\n",
    "            \"tunable_param\": \"40\"})))\n",
    "        trials_per = \"1e4\"\n",
    "        mc.add(fst.MakeLogAndMovie(fst.args({\"trials_per\": trials_per, \"file_name\": \"patch\"})))\n",
    "        mc.attempt(int(1e6))\n",
    "        b2_reduced = 1-0.5**2*(1.5**3-1)*(math.exp(beta)-1)\n",
    "        print(mayer.second_virial_ratio())\n",
    "        self.assertAlmostEqual(b2_reduced, mayer.second_virial_ratio(),\n",
    "                               delta=10*mayer.second_virial_ratio_block_stdev())"
   ]
  },
  {
   "cell_type": "markdown",
   "metadata": {},
   "source": [
    "If the test passes, the energy is within the tolerance of the SRSW value and the two ensemble average methods agreed."
   ]
  },
  {
   "cell_type": "code",
   "execution_count": 2,
   "metadata": {},
   "outputs": [
    {
     "name": "stderr",
     "output_type": "stream",
     "text": [
      "test (__main__.TestMayerSamplingTrimer) ... "
     ]
    },
    {
     "name": "stdout",
     "output_type": "stream",
     "text": [
      "CPU times: user 3 µs, sys: 0 ns, total: 3 µs\n",
      "Wall time: 6.68 µs\n",
      "0.93850099356307\n"
     ]
    },
    {
     "name": "stderr",
     "output_type": "stream",
     "text": [
      "ok\n",
      "\n",
      "----------------------------------------------------------------------\n",
      "Ran 1 test in 2.336s\n",
      "\n",
      "OK\n"
     ]
    },
    {
     "data": {
      "text/plain": [
       "<unittest.main.TestProgram at 0x7f16052668e0>"
      ]
     },
     "execution_count": 2,
     "metadata": {},
     "output_type": "execute_result"
    }
   ],
   "source": [
    "%time  # Note: any line starting with % is only to be used with ipynb\n",
    "unittest.main(argv=[''], verbosity=2, exit=False)"
   ]
  },
  {
   "cell_type": "markdown",
   "metadata": {},
   "source": [
    "Did this tutorial work as expected? Did you find any inconsistencies or have any comments? Please [contact](../../../CONTACT.rst) us. Any feedback is appreciated!"
   ]
  }
 ],
 "metadata": {
  "kernelspec": {
   "display_name": "Python 3",
   "language": "python",
   "name": "python3"
  },
  "language_info": {
   "codemirror_mode": {
    "name": "ipython",
    "version": 3
   },
   "file_extension": ".py",
   "mimetype": "text/x-python",
   "name": "python",
   "nbconvert_exporter": "python",
   "pygments_lexer": "ipython3",
   "version": "3.8.10"
  }
 },
 "nbformat": 4,
 "nbformat_minor": 2
}
