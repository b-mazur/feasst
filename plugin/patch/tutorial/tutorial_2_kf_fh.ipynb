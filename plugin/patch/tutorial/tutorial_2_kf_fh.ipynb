{
 "cells": [
  {
   "cell_type": "markdown",
   "metadata": {},
   "source": [
    "# Flat Histogram simulation of a Kern-Frenkel patch\n",
    "\n",
    "\n",
    "Here, we reproduce the phase behavior of a Kern-Frenkel patchy model using conditions in Figure 2 of https://doi.org/10.1063/1.1569473"
   ]
  },
  {
   "cell_type": "code",
   "execution_count": 1,
   "metadata": {},
   "outputs": [],
   "source": [
    "import math\n",
    "import unittest\n",
    "import feasst as fst\n",
    "\n",
    "class TestFlatHistogramKFPatch(unittest.TestCase):\n",
    "    def test(self):\n",
    "        chi = 0.7 # patch coverage\n",
    "        mx = 5\n",
    "        patch_angle = 2*math.asin(math.sqrt(chi/2))*180/math.pi\n",
    "        print('patch_angle', patch_angle)\n",
    "        mc = fst.MonteCarlo()\n",
    "        config = fst.MakeConfiguration(fst.args({\"cubic_box_length\": \"8\",\n",
    "            \"particle_type0\": fst.install_dir() + \"/plugin/patch/forcefield/two_patch_linear.fstprt\",\n",
    "            \"patch_angle1\": str(patch_angle)}))\n",
    "        config.add(fst.MakeGroup(fst.args({\"site_type0\": \"0\"})))\n",
    "        mc.add(config)\n",
    "        mc.add(fst.MakePotential(fst.MakeHardSphere(), fst.args({\"group_index\": \"1\"})))\n",
    "        mc.add(fst.MakePotential(fst.MakeSquareWell(),\n",
    "            fst.MakeVisitModel(fst.MakeVisitModelInnerPatch()),\n",
    "            fst.args({\"group_index\": \"1\"})))\n",
    "        mc.set(fst.MakeThermoParams(fst.args({\"beta\": str(1/0.7), \"chemical_potential\": \"-1.5\"})))\n",
    "        crit = fst.MakeFlatHistogram(\n",
    "            fst.MakeMacrostateNumParticles(fst.Histogram(fst.args({\"width\": \"1\", \"max\": str(mx), \"min\": \"0\"}))),\n",
    "            fst.MakeTransitionMatrix(fst.args({\"min_sweeps\": \"1000\"})))\n",
    "        mc.set(crit)\n",
    "        mc.add(fst.MakeTrialTranslate())\n",
    "        mc.add(fst.MakeTrialRotate())\n",
    "        mc.add(fst.MakeTrialTransfer(fst.args({\"particle_type\": \"0\", \"weight\": \"4\"})))\n",
    "        trials_per = \"1e4\"\n",
    "        mc.add(fst.MakeCheckEnergy(fst.args({\"trials_per\": trials_per})))\n",
    "        mc.add(fst.MakeTune())\n",
    "        mc.add(fst.MakeLog(fst.args({\"trials_per\": trials_per, \"file_name\": \"patch.txt\"})))\n",
    "        mc.add(fst.MakeMoviePatch(fst.args({\"trials_per\": trials_per, \"file_name\": \"patch.xyz\"})))\n",
    "        mc.add(fst.MakeCriteriaUpdater(fst.args({\"trials_per\": trials_per})))\n",
    "        mc.add(fst.MakeCriteriaWriter(fst.args({\"trials_per\": trials_per, \"file_name\": \"crit.txt\"})))\n",
    "        mc.add(fst.MakeEnergy(fst.args({\"trials_per_write\": trials_per, \"file_name\": \"en.txt\", \"multistate\": \"True\"})))\n",
    "        mc.run_until_complete()\n",
    "        \n",
    "        z_factor = 10\n",
    "        en = mc.analyze(mc.num_analyzers()-1)\n",
    "        self.assertAlmostEqual(en.analyze(0).accumulator().average(), 0, delta=fst.NEAR_ZERO)\n",
    "        self.assertAlmostEqual(en.analyze(1).accumulator().average(), 0, delta=fst.NEAR_ZERO)\n",
    "        self.assertAlmostEqual(en.analyze(2).accumulator().average(), -0.038758392176564, delta=z_factor*en.analyze(2).accumulator().block_stdev())\n",
    "        self.assertAlmostEqual(en.analyze(3).accumulator().average(), -0.116517384264731, delta=z_factor*en.analyze(3).accumulator().block_stdev())\n",
    "        self.assertAlmostEqual(en.analyze(4).accumulator().average(), -0.232665619265520, delta=z_factor*en.analyze(4).accumulator().block_stdev())\n",
    "        self.assertAlmostEqual(en.analyze(5).accumulator().average(), -0.387804181572135, delta=z_factor*en.analyze(5).accumulator().block_stdev())\n",
    "        self.assertAlmostEqual(crit.ln_prob().value(0), -15.9976474469475, delta=0.035)\n",
    "        self.assertAlmostEqual(crit.ln_prob().value(1), -11.9104563420586, delta=0.03)\n",
    "        self.assertAlmostEqual(crit.ln_prob().value(2), -8.48324267323538, delta=0.025)\n",
    "        self.assertAlmostEqual(crit.ln_prob().value(3), -5.42988602574393, delta=0.02)\n",
    "        self.assertAlmostEqual(crit.ln_prob().value(4), -2.64984051640555, delta=0.015)\n",
    "        self.assertAlmostEqual(crit.ln_prob().value(5), -0.07824246342703, delta=0.01)"
   ]
  },
  {
   "cell_type": "markdown",
   "metadata": {},
   "source": [
    "If the test passes, the energy is within the tolerance of the SRSW value and the two ensemble average methods agreed."
   ]
  },
  {
   "cell_type": "code",
   "execution_count": 2,
   "metadata": {},
   "outputs": [
    {
     "name": "stderr",
     "output_type": "stream",
     "text": [
      "test (__main__.TestFlatHistogramKFPatch) ... "
     ]
    },
    {
     "name": "stdout",
     "output_type": "stream",
     "text": [
      "CPU times: user 3 µs, sys: 0 ns, total: 3 µs\n",
      "Wall time: 5.01 µs\n",
      "patch_angle 72.5423968762779\n"
     ]
    },
    {
     "name": "stderr",
     "output_type": "stream",
     "text": [
      "ok\n",
      "\n",
      "----------------------------------------------------------------------\n",
      "Ran 1 test in 37.814s\n",
      "\n",
      "OK\n"
     ]
    },
    {
     "data": {
      "text/plain": [
       "<unittest.main.TestProgram at 0x7f96540a6fa0>"
      ]
     },
     "execution_count": 2,
     "metadata": {},
     "output_type": "execute_result"
    }
   ],
   "source": [
    "%time  # Note: any line starting with % is only to be used with ipynb\n",
    "unittest.main(argv=[''], verbosity=2, exit=False)"
   ]
  },
  {
   "cell_type": "markdown",
   "metadata": {},
   "source": [
    "Did this tutorial work as expected? Did you find any inconsistencies or have any comments? Please [contact](../../../CONTACT.rst) us. Any feedback is appreciated!"
   ]
  }
 ],
 "metadata": {
  "kernelspec": {
   "display_name": "Python 3",
   "language": "python",
   "name": "python3"
  },
  "language_info": {
   "codemirror_mode": {
    "name": "ipython",
    "version": 3
   },
   "file_extension": ".py",
   "mimetype": "text/x-python",
   "name": "python",
   "nbconvert_exporter": "python",
   "pygments_lexer": "ipython3",
   "version": "3.8.10"
  }
 },
 "nbformat": 4,
 "nbformat_minor": 2
}
