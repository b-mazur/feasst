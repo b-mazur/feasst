{
 "cells": [
  {
   "cell_type": "markdown",
   "metadata": {},
   "source": [
    "# Second virial coefficient calculation of a Trimer using Mayer-Sampling\n",
    "\n",
    "\n",
    "Here, we reproduce the virial coefficient of a trimer at the Boyle temperature as reported Table 1 of the following manuscript for $L=0.4\\sigma$\n",
    "\n",
    "https://dx.doi.org/10.1063/1.4918557"
   ]
  },
  {
   "cell_type": "code",
   "execution_count": 1,
   "metadata": {},
   "outputs": [],
   "source": [
    "import unittest\n",
    "import feasst as fst\n",
    "\n",
    "class TestMayerSamplingTrimer(unittest.TestCase):\n",
    "    def test(self):\n",
    "        mc = fst.MonteCarlo()\n",
    "        config = fst.MakeConfiguration(fst.args({\"cubic_box_length\": str(fst.NEAR_INFINITY)}))\n",
    "        config.add_particle_type(fst.install_dir() + \"/forcefield/trimer_0.4L.fstprt\")\n",
    "        config.add_particle_type(fst.install_dir() + \"/forcefield/trimer_0.4L.fstprt\", \"2\")\n",
    "        config.add_particle_of_type(0)\n",
    "        config.add_particle_of_type(1)\n",
    "        rwca = 2.**(1./6.)\n",
    "        config.set_model_param(\"cutoff\", 0, 1, rwca)\n",
    "        config.set_model_param(\"cutoff\", 0, 3, rwca)\n",
    "        config.set_model_param(\"cutoff\", 1, 2, rwca)\n",
    "        config.set_model_param(\"cutoff\", 2, 3, rwca)\n",
    "        mc.add(config)\n",
    "        mc.add(fst.MakePotential(fst.MakeLennardJonesForceShift()))\n",
    "        ref = fst.MakePotential(fst.MakeHardSphere())\n",
    "        ref.set(ref.model_params(mc.system().configuration()).deep_copy())\n",
    "        ref.set_model_param(\"sigma\", 0, 1.)\n",
    "        ref.set_model_param(\"sigma\", 1, 0)\n",
    "        ref.set_model_param(\"sigma\", 2, 1.)\n",
    "        ref.set_model_param(\"sigma\", 3, 0)\n",
    "        mc.add_to_reference(ref)\n",
    "        mc.set(fst.MakeThermoParams(fst.args({\"beta\": str(1./0.815)})))\n",
    "        mayer = fst.MakeMayerSampling()\n",
    "        mc.set(mayer)\n",
    "        mc.add(fst.MakeTrialTranslate(fst.args({\"new_only\": \"true\", \"reference_index\": \"0\",\n",
    "            \"tunable_param\": \"1\", \"particle_type\": \"1\"})))\n",
    "        mc.add(fst.MakeTrialRotate(fst.args({\"new_only\": \"true\", \"reference_index\": \"0\",\n",
    "            \"tunable_param\": \"40\"})))\n",
    "        trials_per = \"1e4\"\n",
    "        mc.add(fst.MakeLogAndMovie(fst.args({\"trials_per\": trials_per, \"file_name\": \"tmp/trib\"})))\n",
    "        mc.attempt(int(1e6))\n",
    "        b2hs = 2./3.*fst.PI*mc.configuration().model_params().select(\"sigma\").value(0)**3\n",
    "        print(mayer.mayer().str())\n",
    "        self.assertAlmostEqual(0, mayer.mayer().average(), delta=4*mayer.mayer().block_stdev())\n"
   ]
  },
  {
   "cell_type": "markdown",
   "metadata": {},
   "source": [
    "If the test passes, the energy is within the tolerance of the SRSW value and the two ensemble average methods agreed."
   ]
  },
  {
   "cell_type": "code",
   "execution_count": 2,
   "metadata": {},
   "outputs": [
    {
     "name": "stderr",
     "output_type": "stream",
     "text": [
      "test (__main__.TestMayerSamplingTrimer) ... "
     ]
    },
    {
     "name": "stdout",
     "output_type": "stream",
     "text": [
      "CPU times: user 2 µs, sys: 0 ns, total: 2 µs\n",
      "Wall time: 4.77 µs\n",
      "average,stdev,block_stdev,moment0,moment1,moment2,moment3,moment4,\n",
      "-0.00036999999999999999,1.0000004315503384,0.0028870451426098215,1000000,-370,1000000,-370,1000000,\n"
     ]
    },
    {
     "name": "stderr",
     "output_type": "stream",
     "text": [
      "ok\n",
      "\n",
      "----------------------------------------------------------------------\n",
      "Ran 1 test in 3.943s\n",
      "\n",
      "OK\n"
     ]
    },
    {
     "data": {
      "text/plain": [
       "<unittest.main.TestProgram at 0x7f95cc7a6d90>"
      ]
     },
     "execution_count": 2,
     "metadata": {},
     "output_type": "execute_result"
    }
   ],
   "source": [
    "%time  # Note: any line starting with % is only to be used with ipynb\n",
    "unittest.main(argv=[''], verbosity=2, exit=False)"
   ]
  },
  {
   "cell_type": "markdown",
   "metadata": {},
   "source": [
    "Did this tutorial work as expected? Did you find any inconsistencies or have any comments? Please [contact](../../../CONTACT.rst) us. Any feedback is appreciated!"
   ]
  }
 ],
 "metadata": {
  "kernelspec": {
   "display_name": "Python 3",
   "language": "python",
   "name": "python3"
  },
  "language_info": {
   "codemirror_mode": {
    "name": "ipython",
    "version": 3
   },
   "file_extension": ".py",
   "mimetype": "text/x-python",
   "name": "python",
   "nbconvert_exporter": "python",
   "pygments_lexer": "ipython3",
   "version": "3.8.10"
  }
 },
 "nbformat": 4,
 "nbformat_minor": 2
}
