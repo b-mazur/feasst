{
 "cells": [
  {
   "cell_type": "markdown",
   "metadata": {},
   "source": [
    "# Second virial coefficient calculation of a Kern-Frenkel patch using Mayer-Sampling\n",
    "\n",
    "\n",
    "Here, we reproduce the virial coefficient of a Kern-Frenkel patchy particle and compare to Eq. 8 of https://doi.org/10.1063/1.1569473"
   ]
  },
  {
   "cell_type": "code",
   "execution_count": 1,
   "metadata": {},
   "outputs": [
    {
     "name": "stdout",
     "output_type": "stream",
     "text": [
      "# FEASST version: v0.19.0-107-gda43557a2e-dirty-user/newtutorials\n",
      "Configuration add_particles_of_type0 2 centers_site_type0 0 cubic_side_length 100 first_particle_index 0 group0 first group1 centers particle_type0 /home/user/feasst/plugin/patch/particle/janus.fstprt  \n",
      "Potential Model HardSphere group centers  \n",
      "Potential Model SquareWell VisitModel VisitModel VisitModelInner VisitModelInnerPatch group centers  \n",
      "RefPotential Model HardSphere group centers  \n",
      "ThermoParams beta 0.1  \n",
      "MayerSampling  \n",
      "TrialTranslate group first new_only true reference_index 0 tunable_param 1  \n",
      "TrialRotate new_only true reference_index 0 tunable_param 40  \n",
      "CriteriaWriter output_file patch_b2.txt trials_per 10000.0  \n",
      "Log output_file patch.txt trials_per 10000.0  \n",
      "MoviePatch output_file patch.xyz trials_per 10000.0  \n",
      "Tune  \n",
      "Run num_trials 1e5  \n",
      "# initializing random number generator with seed: 1653578111\n",
      "RemoveModify name Tune  \n",
      "Run num_trials 1e6  \n",
      "MayerSampling  \n",
      "Run num_trials 1e7  \n",
      " \n",
      " exit: 0\n"
     ]
    }
   ],
   "source": [
    "params={\"beta\": 0.1, \"trials_per\": 1e4} # 1/K\n",
    "\n",
    "script=\"\"\"\n",
    "MonteCarlo\n",
    "Configuration cubic_side_length 100 particle_type0 /feasst/plugin/patch/particle/janus.fstprt \\\n",
    "    add_particles_of_type0 2 \\\n",
    "    group0 first first_particle_index 0 \\\n",
    "    group1 centers centers_site_type0 0\n",
    "Potential Model HardSphere group centers\n",
    "Potential Model SquareWell VisitModel VisitModel VisitModelInner VisitModelInnerPatch group centers\n",
    "RefPotential Model HardSphere group centers\n",
    "ThermoParams beta {beta}\n",
    "MayerSampling\n",
    "TrialTranslate new_only true reference_index 0 tunable_param 1 group first\n",
    "TrialRotate new_only true reference_index 0 tunable_param 40\n",
    "CriteriaWriter trials_per_write {trials_per} output_file patch_b2.txt\n",
    "Log trials_per_write {trials_per} output_file patch.txt\n",
    "MoviePatch trials_per_write {trials_per} output_file patch.xyz\n",
    "\n",
    "# tune trial parameters\n",
    "Tune\n",
    "Run num_trials 1e5\n",
    "RemoveModify name Tune\n",
    "\n",
    "# equilibrate\n",
    "Run num_trials 1e6\n",
    "\n",
    "# production\n",
    "MayerSampling\n",
    "Run num_trials 1e7\n",
    "\"\"\".format(**params)\n",
    "\n",
    "with open('script3.txt', 'w') as file: file.write(script)\n",
    "import subprocess\n",
    "syscode = subprocess.call(\"../../../build/bin/fst < script3.txt > script3.log\", shell=True, executable='/bin/bash')\n",
    "with open('script3.log', 'r') as file: print(file.read(), '\\n', 'exit:', syscode)"
   ]
  },
  {
   "cell_type": "code",
   "execution_count": 2,
   "metadata": {},
   "outputs": [
    {
     "name": "stderr",
     "output_type": "stream",
     "text": [
      "test (__main__.TestMayerSamplingTrimer) ... "
     ]
    },
    {
     "name": "stdout",
     "output_type": "stream",
     "text": [
      "{'second_virial_ratio': 0.937239, 'second_virial_ratio_block_stdev': 0.00101948}\n",
      "0.937239\n"
     ]
    },
    {
     "name": "stderr",
     "output_type": "stream",
     "text": [
      "ok\n",
      "\n",
      "----------------------------------------------------------------------\n",
      "Ran 1 test in 0.001s\n",
      "\n",
      "OK\n"
     ]
    },
    {
     "data": {
      "text/plain": [
       "<unittest.main.TestProgram at 0x7f9134066310>"
      ]
     },
     "execution_count": 2,
     "metadata": {},
     "output_type": "execute_result"
    }
   ],
   "source": [
    "import math\n",
    "import unittest\n",
    "\n",
    "class TestMayerSamplingTrimer(unittest.TestCase):\n",
    "    def test(self):\n",
    "        b2_reduced = 1-0.5**2*(1.5**3-1)*(math.exp(params['beta'])-1)\n",
    "        with open(\"patch_b2.txt\") as f:\n",
    "            firstline = f.readline().rstrip()\n",
    "            b2=eval(firstline)\n",
    "            print(b2)\n",
    "        print(b2['second_virial_ratio'])\n",
    "        self.assertAlmostEqual(b2_reduced, b2['second_virial_ratio'],\n",
    "                               delta=10*b2['second_virial_ratio_block_stdev'])\n",
    "unittest.main(argv=[''], verbosity=2, exit=False)"
   ]
  },
  {
   "cell_type": "markdown",
   "metadata": {},
   "source": [
    "Did this tutorial work as expected? Did you find any inconsistencies or have any comments? Please [contact](../../../CONTACT.rst) us. Any feedback is appreciated!"
   ]
  }
 ],
 "metadata": {
  "kernelspec": {
   "display_name": "Python 3 (ipykernel)",
   "language": "python",
   "name": "python3"
  },
  "language_info": {
   "codemirror_mode": {
    "name": "ipython",
    "version": 3
   },
   "file_extension": ".py",
   "mimetype": "text/x-python",
   "name": "python",
   "nbconvert_exporter": "python",
   "pygments_lexer": "ipython3",
   "version": "3.10.6"
  }
 },
 "nbformat": 4,
 "nbformat_minor": 2
}
