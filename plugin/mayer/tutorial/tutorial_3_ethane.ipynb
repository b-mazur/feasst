{
 "cells": [
  {
   "cell_type": "markdown",
   "metadata": {},
   "source": [
    "# Second virial coefficient calculation of TraPPE ethane using Mayer-Sampling\n",
    "\n",
    "\n",
    "Here, we reproduce the virial coefficient of TraPPE ethane\n",
    "\n",
    "Table 6 of https://doi.org/10.1021/jp972543+ reports −73 +/- 1 ml/mol at 423.2K"
   ]
  },
  {
   "cell_type": "code",
   "execution_count": 7,
   "metadata": {},
   "outputs": [],
   "source": [
    "import unittest\n",
    "import feasst as fst\n",
    "\n",
    "class TestMayerSamplingTraPPEethane(unittest.TestCase):\n",
    "    def test(self):\n",
    "        mc = fst.MonteCarlo()\n",
    "        config = fst.MakeConfiguration(fst.args({\"cubic_box_length\": str(fst.NEAR_INFINITY)}))\n",
    "        config.add_particle_type(\"ethane_with_ref.fstprt\")\n",
    "        config.add_particle_type(\"ethane_with_ref.fstprt\", \"2\")\n",
    "        config.add_particle_of_type(0)\n",
    "        config.add_particle_of_type(1)\n",
    "        for site in range(config.num_site_types()):\n",
    "            config.set_model_param(\"cutoff\", site, 1e4)\n",
    "        mc.add(config)\n",
    "        mc.add(fst.MakePotential(fst.MakeLennardJones()))\n",
    "\n",
    "        # reference\n",
    "        ref = fst.MakePotential(fst.MakeHardSphere())\n",
    "        ref_params = mc.configuration().model_params().deep_copy()\n",
    "        for itype in range(mc.configuration().num_site_types()):\n",
    "            ref_params.set(\"sigma\", itype, 0)\n",
    "        for itype in [0, 2]:\n",
    "            for jtype in [0, 2]:\n",
    "                ref_params.set(\"sigma\", itype, jtype, 4)\n",
    "        ref.set(ref_params)\n",
    "        mc.add_to_reference(ref)\n",
    "\n",
    "        mc.set(fst.MakeThermoParams(fst.args({\"beta\": str(1./423.2)}))) # 1/K\n",
    "        mayer = fst.MakeMayerSampling()\n",
    "        mc.set(mayer)\n",
    "        mc.add(fst.MakeTrialTranslate(fst.args({\"new_only\": \"true\", \"reference_index\": \"0\",\n",
    "            \"tunable_param\": \"0.1\", \"particle_type\": \"1\"})))\n",
    "        mc.add(fst.MakeTrialRotate(fst.args({\"new_only\": \"true\", \"reference_index\": \"0\",\n",
    "            \"tunable_param\": \"40\"})))\n",
    "        trials_per = \"1e5\"\n",
    "        mc.add(fst.MakeLogAndMovie(fst.args({\"trials_per\": trials_per, \"file_name\": \"ethane\"})))\n",
    "        mc.add(fst.MakeTune(fst.args({\"trials_per\": trials_per})))\n",
    "        mc.attempt(int(1e5))\n",
    "        mc.run(fst.MakeRemoveModify(fst.args({\"name\": \"Tune\"})))\n",
    "        mc.attempt(int(1e6))\n",
    "        mayer = fst.MakeMayerSampling()\n",
    "        mc.set(mayer)\n",
    "        mc.attempt(int(1e7))\n",
    "        b2hs = 2./3.*fst.PI*mc.configuration().model_params().select(\"sigma\").value(0)**3  # A^3\n",
    "        b2hs *= 1e-30*1e3*1e3*mc.configuration().physical_constants().avogadro_constant() # L/mol\n",
    "        print('mayer', mayer.mayer().str())\n",
    "        print('mayer_ref', mayer.mayer_ref().str())\n",
    "        print('b22(L/mol)', b2hs*mayer.second_virial_ratio())\n",
    "        print('b22_block_stdev(L/mol)', b2hs*mayer.second_virial_ratio_block_stdev())\n",
    "        self.assertAlmostEqual(-63, b2hs*mayer.second_virial_ratio(),\n",
    "                               delta=6*b2hs*mayer.second_virial_ratio_block_stdev())"
   ]
  },
  {
   "cell_type": "markdown",
   "metadata": {},
   "source": [
    "If the test passes, the energy is within the tolerance of the SRSW value and the two ensemble average methods agreed."
   ]
  },
  {
   "cell_type": "code",
   "execution_count": 8,
   "metadata": {},
   "outputs": [
    {
     "name": "stderr",
     "output_type": "stream",
     "text": [
      "test (__main__.TestMayerSamplingTraPPEethane) ... "
     ]
    },
    {
     "name": "stdout",
     "output_type": "stream",
     "text": [
      "CPU times: user 5 µs, sys: 0 ns, total: 5 µs\n",
      "Wall time: 10 µs\n",
      "mayer average,stdev,block_stdev,moment0,moment1,moment2,moment3,moment4,\n",
      "0.28111720000000001,0.95967349237200528,0.023024244809358819,10000000,2811172,10000000,2811172,10000000,\n",
      "mayer_ref average,stdev,block_stdev,moment0,moment1,moment2,moment3,moment4,\n",
      "-0.32790070317005948,0.73209108309130144,0.012242208407583844,10000000,-3279007.031700595,6434761.7148547894,-335718717.02519226,89271297422.134458,\n",
      "b22(L/mol) -57.02278043180012\n",
      "b22_block_stdev(L/mol) 5.1326695646922404\n"
     ]
    },
    {
     "name": "stderr",
     "output_type": "stream",
     "text": [
      "ok\n",
      "\n",
      "----------------------------------------------------------------------\n",
      "Ran 1 test in 25.811s\n",
      "\n",
      "OK\n"
     ]
    },
    {
     "data": {
      "text/plain": [
       "<unittest.main.TestProgram at 0x7f4b2853d940>"
      ]
     },
     "execution_count": 8,
     "metadata": {},
     "output_type": "execute_result"
    }
   ],
   "source": [
    "%time  # Note: any line starting with % is only to be used with ipynb\n",
    "unittest.main(argv=[''], verbosity=2, exit=False)"
   ]
  },
  {
   "cell_type": "markdown",
   "metadata": {},
   "source": [
    "Did this tutorial work as expected? Did you find any inconsistencies or have any comments? Please [contact](../../../CONTACT.rst) us. Any feedback is appreciated!"
   ]
  }
 ],
 "metadata": {
  "kernelspec": {
   "display_name": "Python 3",
   "language": "python",
   "name": "python3"
  },
  "language_info": {
   "codemirror_mode": {
    "name": "ipython",
    "version": 3
   },
   "file_extension": ".py",
   "mimetype": "text/x-python",
   "name": "python",
   "nbconvert_exporter": "python",
   "pygments_lexer": "ipython3",
   "version": "3.8.10"
  }
 },
 "nbformat": 4,
 "nbformat_minor": 2
}
