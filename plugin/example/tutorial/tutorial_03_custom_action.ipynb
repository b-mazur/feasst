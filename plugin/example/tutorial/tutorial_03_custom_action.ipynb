{
 "cells": [
  {
   "cell_type": "markdown",
   "metadata": {},
   "source": [
    "# Make your own custom Action\n",
    "\n",
    "In this example, a user can follow the instructions in /feasst/plugin/example/include/action_example.h to make their own custom Action.\n",
    "\n",
    "In this relatively trivial example, the newly implemented Action forces an Analyze or Modify to write to file."
   ]
  },
  {
   "cell_type": "code",
   "execution_count": 1,
   "metadata": {},
   "outputs": [],
   "source": [
    "import sys\n",
    "import subprocess\n",
    "import unittest\n",
    "import pandas as pd\n",
    "\n",
    "def run_fst():\n",
    "    with open(\"launch3.txt\", \"w\") as myfile: myfile.write(\"\"\"\n",
    "MonteCarlo\n",
    "Configuration particle_type0 /feasst/particle/atom.fstprt cubic_side_length 8\n",
    "Potential Model IdealGas\n",
    "ThermoParams beta 1 chemical_potential0 1\n",
    "FlatHistogram Macrostate MacrostateNumParticles width 1 max 4 min 0 Bias TransitionMatrix min_sweeps 2\n",
    "TrialTransfer particle_type 0\n",
    "CriteriaUpdater trials_per_update 1e2\n",
    "CriteriaWriter trials_per_write 1e2 output_file action_ex_crit.csv\n",
    "Energy output_file en.csv trials_per_write 1e2 multistate true\n",
    "PairDistribution output_file grig.csv trials_per_write 1e2\n",
    "Run until_criteria_complete true\n",
    "ActionExample analyze_name CriteriaWriter\n",
    "ActionExample analyze_name Energy\n",
    "ActionExample modify_name PairDistribution\n",
    "\"\"\")\n",
    "    syscode = subprocess.call(\"../../../build/bin/fst < launch3.txt > launch3.log\", shell=True, executable='/bin/bash')\n",
    "    if syscode > 0: sys.exit(1)"
   ]
  },
  {
   "cell_type": "markdown",
   "metadata": {},
   "source": [
    "Check that, with \"ActionExample analyze_name CriteriaWriter\", the number of sweeps in the writen file is equal to the number of sweeps requested (i.e., 2)."
   ]
  },
  {
   "cell_type": "code",
   "execution_count": 2,
   "metadata": {},
   "outputs": [
    {
     "name": "stderr",
     "output_type": "stream",
     "text": [
      "test_analyze (__main__.TestAnalyzeText) ... ok\n",
      "\n",
      "----------------------------------------------------------------------\n",
      "Ran 1 test in 0.020s\n",
      "\n",
      "OK\n"
     ]
    },
    {
     "name": "stdout",
     "output_type": "stream",
     "text": [
      "{'num_sweeps': 2, 'soft_min': 0, 'soft_max': 4}\n"
     ]
    },
    {
     "data": {
      "text/plain": [
       "<unittest.main.TestProgram at 0x7fda9d036290>"
      ]
     },
     "execution_count": 2,
     "metadata": {},
     "output_type": "execute_result"
    }
   ],
   "source": [
    "class TestAnalyzeText(unittest.TestCase):\n",
    "    def test_analyze(self):\n",
    "        run_fst()\n",
    "        file1 = open('action_ex_crit.csv', 'r')\n",
    "        lines = file1.readlines()\n",
    "        file1.close()\n",
    "        exec('iprm={' + lines[0][1:]+'}', globals())\n",
    "        print(iprm)\n",
    "        self.assertEqual(iprm['num_sweeps'], 2)\n",
    "        \n",
    "unittest.main(argv=[''], verbosity=2, exit=False)"
   ]
  },
  {
   "cell_type": "markdown",
   "metadata": {},
   "source": [
    "Did this tutorial work as expected? Did you find any inconsistencies or have any comments? Please [contact](../../../CONTACT.rst) us. Any feedback is appreciated!"
   ]
  }
 ],
 "metadata": {
  "kernelspec": {
   "display_name": "Python 3 (ipykernel)",
   "language": "python",
   "name": "python3"
  },
  "language_info": {
   "codemirror_mode": {
    "name": "ipython",
    "version": 3
   },
   "file_extension": ".py",
   "mimetype": "text/x-python",
   "name": "python",
   "nbconvert_exporter": "python",
   "pygments_lexer": "ipython3",
   "version": "3.10.6"
  }
 },
 "nbformat": 4,
 "nbformat_minor": 2
}
