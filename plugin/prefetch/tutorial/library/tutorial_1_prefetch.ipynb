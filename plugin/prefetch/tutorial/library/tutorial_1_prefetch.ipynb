{
 "cells": [
  {
   "cell_type": "markdown",
   "metadata": {},
   "source": [
    "# Prefetch example"
   ]
  },
  {
   "cell_type": "code",
   "execution_count": 1,
   "metadata": {},
   "outputs": [
    {
     "name": "stdout",
     "output_type": "stream",
     "text": [
      "num_particles 183\n",
      "target_acceptance 0.2\n",
      "tunable_param 0.185\n"
     ]
    }
   ],
   "source": [
    "import sys\n",
    "import feasst as fst\n",
    "\n",
    "def mc(target_acceptance=0.2,\n",
    "       tunable_param=0.185,\n",
    "       density=0.85,\n",
    "       cutoff=3,\n",
    "       temperature=0.88,\n",
    "       trials_per=int(1e6),\n",
    "       ):\n",
    "    box_length = 2*cutoff\n",
    "    file_app = \"_a\" + str(target_acceptance) + \"_r\" + str(cutoff)\n",
    "    num_particles=int(density*box_length**3)\n",
    "    print('num_particles', num_particles)\n",
    "    print('target_acceptance', target_acceptance)\n",
    "    print('tunable_param', tunable_param)\n",
    "\n",
    "    monte_carlo = fst.Prefetch(fst.args({\"trials_per_check\": \"10000000\"}))\n",
    "    monte_carlo.activate_prefetch(False)\n",
    "    monte_carlo.add(fst.MakeConfiguration(fst.args({\"cubic_side_length\": str(box_length),\n",
    "                                       \"particle_type0\": fst.install_dir() + \"/particle/lj.fstprt\"})))\n",
    "    monte_carlo.add(fst.MakePotential(fst.MakeLennardJones()))\n",
    "    monte_carlo.add(fst.MakePotential(fst.MakeLongRangeCorrections()))\n",
    "    monte_carlo.set(fst.MakeThermoParams(fst.args({\n",
    "        \"beta\": str(1./temperature),\n",
    "        \"chemical_potential\": \"1.\"})))\n",
    "    monte_carlo.set(fst.MakeMetropolis())\n",
    "    monte_carlo.add(fst.MakeTrialTranslate(fst.args({\n",
    "        \"weight\": \"1.\",\n",
    "        \"tunable_param\": str(tunable_param),\n",
    "        \"tunable_target_acceptance\": str(target_acceptance),\n",
    "        \"tunable_percent_change\": \"0.01\"})))\n",
    "    monte_carlo.add(fst.MakeTrialAdd(fst.args({\"particle_type\": \"0\"})))\n",
    "    monte_carlo.run(fst.MakeRun(fst.args({\"until_num_particles\": str(num_particles)})))\n",
    "    monte_carlo.run(fst.MakeRemoveTrial(fst.args({\"name\": \"TrialAdd\"})))\n",
    "    monte_carlo.add(fst.MakeLogAndMovie(fst.args({\n",
    "        \"trials_per\" : str(trials_per),\n",
    "        \"output_file\": \"movie\"+file_app,\n",
    "        \"clear_file\": \"true\"})))\n",
    "    monte_carlo.add(fst.MakeCheckEnergy(fst.args({\"trials_per\" : str(trials_per)})))\n",
    "    monte_carlo.add(fst.MakeTune())\n",
    "    monte_carlo.attempt(int(1e6)) #equilibrate\n",
    "    monte_carlo.activate_prefetch(True)\n",
    "    monte_carlo.add(fst.MakeMeanSquaredDisplacement(fst.args({\n",
    "        \"trials_per_update\": \"10000\",\n",
    "        \"updates_per_origin\": \"1000\",\n",
    "        \"output_file\": \"msd\" + file_app + \".txt\",\n",
    "        \"trials_per_write\": str(int(1e5))})))\n",
    "    monte_carlo.add(fst.MakeCPUTime(fst.args({\n",
    "        \"trials_per_update\": str(trials_per),\n",
    "        \"trials_per_write\": str(trials_per),\n",
    "        \"output_file\": \"cpu\" + file_app + \".txt\"})))\n",
    "    monte_carlo.attempt(int(1e6))\n",
    "\n",
    "mc()"
   ]
  },
  {
   "cell_type": "markdown",
   "metadata": {},
   "source": [
    "Did this tutorial work as expected? Did you find any inconsistencies or have any comments? Please [contact](../../../CONTACT.rst) us. Any feedback is appreciated!"
   ]
  }
 ],
 "metadata": {
  "kernelspec": {
   "display_name": "Python 3",
   "language": "python",
   "name": "python3"
  },
  "language_info": {
   "codemirror_mode": {
    "name": "ipython",
    "version": 3
   },
   "file_extension": ".py",
   "mimetype": "text/x-python",
   "name": "python",
   "nbconvert_exporter": "python",
   "pygments_lexer": "ipython3",
   "version": "3.8.10"
  }
 },
 "nbformat": 4,
 "nbformat_minor": 2
}
