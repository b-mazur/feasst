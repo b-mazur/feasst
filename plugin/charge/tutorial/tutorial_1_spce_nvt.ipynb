{
 "cells": [
  {
   "cell_type": "markdown",
   "metadata": {},
   "source": [
    "# Canonical ensemble Monte Carlo of bulk SPC/E water\n",
    "\n",
    "\n",
    "In this example, we reproduce the average energy reported in https://doi.org/10.1063/1.476834"
   ]
  },
  {
   "cell_type": "code",
   "execution_count": 5,
   "metadata": {
    "execution": {
     "iopub.execute_input": "2021-09-09T16:37:31.473136Z",
     "iopub.status.busy": "2021-09-09T16:37:31.472226Z",
     "iopub.status.idle": "2021-09-09T16:37:31.529169Z",
     "shell.execute_reply": "2021-09-09T16:37:31.530072Z"
    }
   },
   "outputs": [],
   "source": [
    "import unittest\n",
    "import feasst as fst\n",
    "\n",
    "class TestEwald1SPCENVT(unittest.TestCase):\n",
    "    \"\"\"Test a canonical ensemble Lennard Jones Monte Carlo simulation\"\"\"\n",
    "    def test_srsw(self, num_particles=512, box_length=24.8586887, trials_per=1e5, temperature=298):\n",
    "        \"\"\"Compare with the reported average energy from https://doi.org/10.1063/1.476834.\n",
    "\n",
    "        num_particles -- number of water molecules\n",
    "        box_length -- box length in angstroms\n",
    "        trials_per -- steps between each Anaylze/Modify\n",
    "        temperature -- in Kelvin\n",
    "        \"\"\"\n",
    "\n",
    "        monte_carlo = fst.MonteCarlo()\n",
    "        # monte_carlo.set(fst.MakeRandomMT19937(fst.args({\"seed\": \"1234\"})))\n",
    "        # Original manuscript used rcut = L/2, but the default rcut in spce used here is 10\n",
    "        monte_carlo.add(fst.MakeConfiguration(fst.args({\"cubic_box_length\": str(box_length),\n",
    "            \"physical_constants\": \"CODATA2010\",\n",
    "            \"particle_type0\": fst.install_dir() + \"/forcefield/spce.fstprt\"})))\n",
    "        monte_carlo.add(fst.MakePotential(fst.MakeEwald(fst.args({\"alpha\": str(5.6/box_length),\n",
    "            \"kmax_squared\": \"38\"}))))\n",
    "        monte_carlo.add(fst.MakePotential(fst.MakeModelTwoBodyFactory(fst.MakeLennardJones(), fst.MakeChargeScreened()),\n",
    "                                          fst.args({\"table_size\": \"1e6\"})))\n",
    "        monte_carlo.add(fst.MakePotential(fst.MakeChargeScreenedIntra(), fst.MakeVisitModelBond()))\n",
    "        monte_carlo.add(fst.MakePotential(fst.MakeChargeSelf()))\n",
    "        monte_carlo.add(fst.MakePotential(fst.MakeLongRangeCorrections()))\n",
    "        R = monte_carlo.configuration().physical_constants().ideal_gas_constant()\n",
    "        monte_carlo.set(fst.MakeThermoParams(fst.args({\n",
    "            \"beta\": str(1./(R*temperature/1e3)),\n",
    "            \"chemical_potential\": \"1.\"})))\n",
    "        monte_carlo.set(fst.MakeMetropolis())\n",
    "        monte_carlo.add(fst.MakeTrialTranslate(fst.args({\"weight\": \"1.\", \"tunable_param\": \"0.275\"})))\n",
    "        monte_carlo.add(fst.MakeTrialRotate(fst.args({\"weight\": \"1.\", \"tunable_param\": \"0.5\"})))\n",
    "        monte_carlo.add(fst.MakeTrialAdd(fst.args({\"particle_type\": \"0\"})))\n",
    "        monte_carlo.run(fst.MakeRun(fst.args({\"until_num_particles\": str(num_particles)})))\n",
    "        monte_carlo.run(fst.MakeRemoveTrial(fst.args({\"name\": \"TrialAdd\"})))\n",
    "        monte_carlo.add(fst.MakeLogAndMovie(fst.args({\n",
    "            \"trials_per\" : str(trials_per),\n",
    "            \"file_name\": \"spce\",\n",
    "            \"clear_file\": \"true\"})))\n",
    "        monte_carlo.add(fst.MakeCheckEnergyAndTune(fst.args({\"trials_per\" : str(trials_per),\n",
    "                                                             \"tolerance\": str(1e-6)})))\n",
    "\n",
    "        # equilibrate\n",
    "        monte_carlo.attempt(int(1e6))\n",
    "\n",
    "        # compute average energy using a stepper/analysis and output into file\n",
    "        energy = fst.MakeEnergy(fst.args({\n",
    "            \"trials_per_update\": \"1\",\n",
    "            \"trials_per_write\": str(trials_per),\n",
    "            \"file_name\": \"spce_nvt_energy.txt\"}))\n",
    "        monte_carlo.add(energy)\n",
    "\n",
    "        # compute average using this script\n",
    "        energy_alt = fst.Accumulator()\n",
    "\n",
    "        # production\n",
    "        for _ in range(int(1e6)):\n",
    "            monte_carlo.attempt()\n",
    "            energy_alt.accumulate(monte_carlo.criteria().current_energy())\n",
    "\n",
    "        # test that the two methods to compute average energy are the same\n",
    "        self.assertAlmostEqual(energy.energy().average(), energy_alt.average(), delta=1e-6)\n",
    "\n",
    "        # test the average against the NIST SRSW\n",
    "        num = monte_carlo.configuration().num_particles()\n",
    "        stdev = (energy.energy().block_stdev()**2 + (0.02*num)**2)**(1./2.)\n",
    "        print(energy.energy().average(), energy_alt.average(), stdev)\n",
    "        self.assertAlmostEqual(-46.82*num, energy.energy().average(), delta=20*stdev)"
   ]
  },
  {
   "cell_type": "markdown",
   "metadata": {},
   "source": [
    "If the test passes, the energy is within the tolerance of the SRSW value and the two ensemble average methods agreed."
   ]
  },
  {
   "cell_type": "code",
   "execution_count": null,
   "metadata": {
    "execution": {
     "iopub.execute_input": "2021-09-09T16:37:31.536106Z",
     "iopub.status.busy": "2021-09-09T16:37:31.535432Z",
     "iopub.status.idle": "2021-09-09T17:08:23.038998Z",
     "shell.execute_reply": "2021-09-09T17:08:23.039434Z"
    }
   },
   "outputs": [
    {
     "name": "stderr",
     "output_type": "stream",
     "text": [
      "test_srsw (__main__.TestEwald1SPCENVT)\n",
      "Compare with the reported average energy from https://doi.org/10.1063/1.476834. ... "
     ]
    }
   ],
   "source": [
    "%time\n",
    "unittest.main(argv=[''], verbosity=2, exit=False)"
   ]
  },
  {
   "cell_type": "markdown",
   "metadata": {},
   "source": [
    "Did this tutorial work as expected? Did you find any inconsistencies or have any comments? Please [contact](../../../CONTACT.rst) us. Any feedback is appreciated!"
   ]
  }
 ],
 "metadata": {
  "kernelspec": {
   "display_name": "Python 3",
   "language": "python",
   "name": "python3"
  },
  "language_info": {
   "codemirror_mode": {
    "name": "ipython",
    "version": 3
   },
   "file_extension": ".py",
   "mimetype": "text/x-python",
   "name": "python",
   "nbconvert_exporter": "python",
   "pygments_lexer": "ipython3",
   "version": "3.8.10"
  }
 },
 "nbformat": 4,
 "nbformat_minor": 2
}
