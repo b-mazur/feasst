{
 "cells": [
  {
   "cell_type": "markdown",
   "metadata": {},
   "source": [
    "# Reference configuration of SPC/E water in non-cuboid domain"
   ]
  },
  {
   "cell_type": "code",
   "execution_count": 1,
   "metadata": {
    "execution": {
     "iopub.execute_input": "2021-09-09T16:37:31.473136Z",
     "iopub.status.busy": "2021-09-09T16:37:31.472226Z",
     "iopub.status.idle": "2021-09-09T16:37:31.529169Z",
     "shell.execute_reply": "2021-09-09T16:37:31.530072Z"
    }
   },
   "outputs": [
    {
     "name": "stdout",
     "output_type": "stream",
     "text": [
      "# FEASST version: v0.19.0-85-gdff8cb12e2-dirty-user/newtutorials\n",
      "Configuration particle_type0 /home/user/feasst/particle/spce.fstprt side_length0 30.0 side_length1 28.97777478867205 side_length2 29.51512917398008 xy 7.764571353075622 xyz_file /home/user/feasst/plugin/charge/test/data/spce_triclinic_sample_periodic1.xyz xz -2.6146722824297473 yz -4.692615336756641  \n",
      "Potential Model LennardJones  \n",
      "Potential VisitModel LongRangeCorrections  \n",
      "Potential VisitModel Ewald alpha 0.2850 kxmax 7 kymax 7 kzmax 7  \n",
      "# Info 0 [plugin/charge/src/ewald.cpp:190] alpha: 0.285\n",
      "# Info 0 [plugin/charge/src/ewald.cpp:191] kmax_squared 2.3037\n",
      "# Info 0 [plugin/charge/src/ewald.cpp:190] alpha: 0.285\n",
      "# Info 0 [plugin/charge/src/ewald.cpp:191] kmax_squared 2.3037\n",
      "Potential Model ChargeScreened  \n",
      "# Info 0 [plugin/charge/src/ewald.cpp:190] alpha: 0.285\n",
      "# Info 0 [plugin/charge/src/ewald.cpp:191] kmax_squared 2.3037\n",
      "Potential Model ChargeScreenedIntra VisitModel VisitModelBond  \n",
      "# Info 0 [plugin/charge/src/ewald.cpp:190] alpha: 0.285\n",
      "# Info 0 [plugin/charge/src/ewald.cpp:191] kmax_squared 2.3037\n",
      "Potential Model ChargeSelf  \n",
      "# Info 0 [plugin/charge/src/ewald.cpp:190] alpha: 0.285\n",
      "# Info 0 [plugin/charge/src/ewald.cpp:191] kmax_squared 2.3037\n",
      "ThermoParams beta 1000000  \n",
      "Metropolis  \n",
      "# Info 0 [plugin/charge/src/ewald.cpp:190] alpha: 0.285\n",
      "# Info 0 [plugin/charge/src/ewald.cpp:191] kmax_squared 2.3037\n",
      "Log clear_file true file_name en.csv max_precision true  \n",
      "Run num_trials 1  \n",
      " \n",
      " exit: 0\n"
     ]
    }
   ],
   "source": [
    "import unittest\n",
    "\n",
    "script=\"\"\"\n",
    "MonteCarlo\n",
    "Configuration side_length0 30.0 side_length1 28.97777478867205 side_length2 29.51512917398008 \\\n",
    "    xy 7.764571353075622 xz -2.6146722824297473 yz -4.692615336756641 \\\n",
    "    xyz_file /feasst/plugin/charge/test/data/spce_triclinic_sample_periodic1.xyz \\\n",
    "    particle_type0 /feasst/particle/spce.fstprt\n",
    "Potential Model LennardJones\n",
    "Potential VisitModel LongRangeCorrections\n",
    "Potential VisitModel Ewald alpha 0.2850 kxmax 7 kymax 7 kzmax 7\n",
    "Potential Model ChargeScreened\n",
    "Potential Model ChargeScreenedIntra VisitModel VisitModelBond\n",
    "Potential Model ChargeSelf\n",
    "ThermoParams beta 1000000\n",
    "Metropolis\n",
    "Log file_name en.csv max_precision true clear_file true\n",
    "Run num_trials 1\n",
    "\"\"\"\n",
    "\n",
    "with open('script.txt', 'w') as file: file.write(script)\n",
    "import subprocess\n",
    "syscode = subprocess.call(\"../../../build/bin/fst < script.txt > script.log\", shell=True, executable='/bin/bash')\n",
    "with open('script.log', 'r') as file: print(file.read(), '\\n', 'exit:', syscode)"
   ]
  },
  {
   "cell_type": "markdown",
   "metadata": {},
   "source": [
    "If the test passes, the energy is within the tolerance of the SRSW value and the two ensemble average methods agreed."
   ]
  },
  {
   "cell_type": "code",
   "execution_count": 2,
   "metadata": {
    "execution": {
     "iopub.execute_input": "2021-09-09T16:37:31.536106Z",
     "iopub.status.busy": "2021-09-09T16:37:31.535432Z",
     "iopub.status.idle": "2021-09-09T17:08:23.038998Z",
     "shell.execute_reply": "2021-09-09T17:08:23.039434Z"
    }
   },
   "outputs": [
    {
     "name": "stderr",
     "output_type": "stream",
     "text": [
      "test_srsw (__main__.TestEwald0SPCE) ... ok\n",
      "\n",
      "----------------------------------------------------------------------\n",
      "Ran 1 test in 0.004s\n",
      "\n",
      "OK\n"
     ]
    },
    {
     "data": {
      "text/plain": [
       "<unittest.main.TestProgram at 0x7ff5484bd850>"
      ]
     },
     "execution_count": 2,
     "metadata": {},
     "output_type": "execute_result"
    }
   ],
   "source": [
    "import pandas as pd\n",
    "class TestEwald0SPCE(unittest.TestCase):\n",
    "    def test_srsw(self):\n",
    "        df=pd.read_csv('en.csv')\n",
    "        self.assertAlmostEqual(df['LennardJones'][0], 931.15451, delta=1e-4)\n",
    "        self.assertAlmostEqual(df['LongRangeCorrections'][0], -34.16569, delta=1e-4)\n",
    "        self.assertAlmostEqual(df['Ewald'][0], 371.46525, delta=1e-4)\n",
    "        self.assertAlmostEqual(df['ChargeScreened'][0], -6046.43627, delta=1e-4)\n",
    "        self.assertAlmostEqual(df['ChargeScreenedIntra'][0], 95078.89447, delta=1e-4)\n",
    "        self.assertAlmostEqual(df['ChargeSelf'][0], -96297.75579, delta=1e-4)\n",
    "unittest.main(argv=[''], verbosity=2, exit=False)"
   ]
  },
  {
   "cell_type": "markdown",
   "metadata": {},
   "source": [
    "Did this tutorial work as expected? Did you find any inconsistencies or have any comments? Please [contact](../../../CONTACT.rst) us. Any feedback is appreciated!"
   ]
  }
 ],
 "metadata": {
  "kernelspec": {
   "display_name": "Python 3",
   "language": "python",
   "name": "python3"
  },
  "language_info": {
   "codemirror_mode": {
    "name": "ipython",
    "version": 3
   },
   "file_extension": ".py",
   "mimetype": "text/x-python",
   "name": "python",
   "nbconvert_exporter": "python",
   "pygments_lexer": "ipython3",
   "version": "3.8.10"
  }
 },
 "nbformat": 4,
 "nbformat_minor": 2
}
