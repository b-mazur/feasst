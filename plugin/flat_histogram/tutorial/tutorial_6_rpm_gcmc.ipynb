{
 "cells": [
  {
   "cell_type": "markdown",
   "metadata": {},
   "source": [
    "# Grand canonical ensemble transition-matrix Monte Carlo with RPM\n",
    "\n",
    "This example is similar to the SPC/E tutorial, except this time we simulate the RPM model."
   ]
  },
  {
   "cell_type": "code",
   "execution_count": 3,
   "metadata": {},
   "outputs": [],
   "source": [
    "import math\n",
    "import unittest\n",
    "import feasst as fst\n",
    "\n",
    "class TestFlatHistogramRPM(unittest.TestCase):\n",
    "    \"\"\"Test flat histogram grand canonical ensemble Monte Carlo simulations\"\"\"\n",
    "    def test_serial_5max(self):\n",
    "        \"\"\"Compare the free energies and potential energies with the previously\n",
    "        published values: https://doi.org/10.1063/1.5123683\n",
    "        \"\"\"\n",
    "        monte_carlo = fst.MonteCarlo()\n",
    "        monte_carlo.add(fst.MakeConfiguration(fst.args({\"cubic_box_length\": \"12\",\n",
    "            \"particle_type0\": fst.install_dir() + \"/plugin/charge/forcefield/rpm_plus.fstprt\",\n",
    "            \"particle_type1\": fst.install_dir() + \"/plugin/charge/forcefield/rpm_minus.fstprt\",\n",
    "            \"cutoff\": \"4.891304347826090\",\n",
    "            \"charge0\": str( 1./math.sqrt(fst.CODATA2018().charge_conversion())),      \n",
    "            \"charge1\": str(-1./math.sqrt(fst.CODATA2018().charge_conversion()))})))\n",
    "        monte_carlo.add(fst.MakePotential(fst.MakeEwald(fst.args({\"alpha\": str(6.87098396396261/12),\n",
    "            \"kmax_squared\": \"38\"}))))\n",
    "        monte_carlo.add(fst.MakePotential(fst.MakeModelTwoBodyFactory(fst.MakeHardSphere(), fst.MakeChargeScreened()),\n",
    "                                          fst.args({\"table_size\": \"1e6\"})))\n",
    "        monte_carlo.add(fst.MakePotential(fst.MakeChargeSelf()))\n",
    "        monte_carlo.add_to_reference(fst.MakePotential(fst.MakeDontVisitModel()))\n",
    "        temperature = 0.047899460618081;\n",
    "        beta_mu = -13.94;\n",
    "        \n",
    "        monte_carlo.set(fst.MakeThermoParams(fst.args({\"beta\": str(1/temperature),\n",
    "                      \"chemical_potential0\": str(beta_mu*temperature),\n",
    "                      \"chemical_potential1\": str(beta_mu*temperature)})))\n",
    "        criteria = fst.MakeFlatHistogram(\n",
    "            fst.MakeMacrostateNumParticles(\n",
    "                fst.Histogram(fst.args({\"width\": \"1\", \"max\": \"2\", \"min\": \"0\"})),\n",
    "                fst.args({\"particle_type\": \"0\"})),\n",
    "            fst.MakeTransitionMatrix(fst.args({\"min_sweeps\": \"100\"})))\n",
    "        monte_carlo.set(criteria)\n",
    "        monte_carlo.add(fst.MakeTrialTranslate(fst.args({\"weight\": \"0.25\", \"tunable_param\": \"0.1\"})))\n",
    "        monte_carlo.add(fst.MakeTrialTransferMultiple(fst.args({\n",
    "            \"weight\": \"4\",\n",
    "            \"particle_type0\": \"0\",\n",
    "            \"particle_type1\": \"1\",\n",
    "            \"reference_index\": \"0\"})))\n",
    "        trials_per = str(int(1e5))\n",
    "        monte_carlo.add(fst.MakeCriteriaUpdater(fst.args({\"trials_per\": trials_per})))\n",
    "        monte_carlo.add(fst.MakeCriteriaWriter(fst.args({\"trials_per\": trials_per, \"file_name\": \"crit.txt\"})))\n",
    "        monte_carlo.add(fst.MakeLogAndMovie(fst.args({\"trials_per\": trials_per, \"file_name\": \"rpm\"})))\n",
    "        monte_carlo.add(fst.MakeCheckEnergyAndTune(fst.args({\"trials_per\": trials_per})))\n",
    "        energy = fst.MakeEnergy(fst.args({\"file_name\": \"rpm_fh_energy\",\n",
    "                                          \"trials_per_update\": \"1\",\n",
    "                                          \"trials_per_write\": trials_per,\n",
    "                                          \"multistate\": \"true\"}))\n",
    "        monte_carlo.add(energy)\n",
    "        monte_carlo.run_until_complete()\n",
    "        \n",
    "        lnpi_previous = [\n",
    "            [-1.2994315780357, 0.05],\n",
    "            [-1.08646312498868, 0.05],\n",
    "            [-0.941850889679828, 0.05]]\n",
    "        energy_previous = [\n",
    "            [0, 1e-14], \n",
    "            [-0.939408, 0.02],\n",
    "            [-2.02625, 0.04]]\n",
    "        for macro in range(criteria.num_states()):\n",
    "            self.assertAlmostEqual(\n",
    "                lnpi_previous[macro][0],\n",
    "                criteria.bias().ln_prob().value(macro),\n",
    "                delta=5.*lnpi_previous[macro][1]\n",
    "            )\n",
    "            energy_analyzer = monte_carlo.analyze(monte_carlo.num_analyzers() - 1)\n",
    "            energy_accumulator = energy_analyzer.analyze(macro).accumulator()\n",
    "            stdev = (energy_previous[macro][1]**2 + energy_accumulator.block_stdev()**2)**(1./2.)\n",
    "            self.assertAlmostEqual(\n",
    "                energy_previous[macro][0],\n",
    "                energy_accumulator.average(),\n",
    "                #criteria.bias().ln_prob().value(macro),\n",
    "                delta=10*stdev\n",
    "            ) \n"
   ]
  },
  {
   "cell_type": "code",
   "execution_count": 4,
   "metadata": {},
   "outputs": [
    {
     "name": "stderr",
     "output_type": "stream",
     "text": [
      "test_serial_5max (__main__.TestFlatHistogramRPM)\n",
      "Compare the free energies and potential energies with the previously ... "
     ]
    },
    {
     "name": "stdout",
     "output_type": "stream",
     "text": [
      "CPU times: user 5 µs, sys: 0 ns, total: 5 µs\n",
      "Wall time: 9.06 µs\n"
     ]
    },
    {
     "name": "stderr",
     "output_type": "stream",
     "text": [
      "ok\n",
      "\n",
      "----------------------------------------------------------------------\n",
      "Ran 1 test in 131.245s\n",
      "\n",
      "OK\n"
     ]
    },
    {
     "data": {
      "text/plain": [
       "<unittest.main.TestProgram at 0x7f786be68040>"
      ]
     },
     "execution_count": 4,
     "metadata": {},
     "output_type": "execute_result"
    }
   ],
   "source": [
    "%time\n",
    "unittest.main(argv=[''], verbosity=2, exit=False)"
   ]
  },
  {
   "cell_type": "markdown",
   "metadata": {},
   "source": [
    "Did this tutorial work as expected? Did you find any inconsistencies or have any comments? Please [contact](../../../CONTACT.rst) us. Any feedback is appreciated!"
   ]
  }
 ],
 "metadata": {
  "kernelspec": {
   "display_name": "Python 3",
   "language": "python",
   "name": "python3"
  },
  "language_info": {
   "codemirror_mode": {
    "name": "ipython",
    "version": 3
   },
   "file_extension": ".py",
   "mimetype": "text/x-python",
   "name": "python",
   "nbconvert_exporter": "python",
   "pygments_lexer": "ipython3",
   "version": "3.8.10"
  }
 },
 "nbformat": 4,
 "nbformat_minor": 2
}
