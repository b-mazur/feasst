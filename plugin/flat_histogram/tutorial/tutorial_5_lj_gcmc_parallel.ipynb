{
 "cells": [
  {
   "cell_type": "markdown",
   "metadata": {},
   "source": [
    "# Parallelize a flat histogram simulation\n",
    "\n",
    "A grand canonical ensemble transition-matrix Monte Carlo simulation is parallelized by dividing the macrostate ranges of each processor into overlapping windows.\n",
    "\n",
    "As an exercise, compare the macrostate probability distribution output for all windows with the individual windows in the files (crit#.txt).\n",
    "Attempt to unify these individual macrostate probability distributions."
   ]
  },
  {
   "cell_type": "code",
   "execution_count": 1,
   "metadata": {},
   "outputs": [
    {
     "name": "stdout",
     "output_type": "stream",
     "text": [
      "((0, 35), (33, 50))\n"
     ]
    },
    {
     "data": {
      "text/plain": [
       "175281"
      ]
     },
     "execution_count": 1,
     "metadata": {},
     "output_type": "execute_result"
    }
   ],
   "source": [
    "import feasst as fst\n",
    "import pyfeasst\n",
    "\n",
    "def mc(thread, mn, mx):\n",
    "    trials_per=int(1e5)\n",
    "    mc = fst.MakeMonteCarlo()\n",
    "    mc.add(fst.MakeConfiguration(fst.args({\"cubic_box_length\": \"8\",\n",
    "                                           \"particle_type0\": fst.install_dir() + \"/forcefield/lj.fstprt\"})))\n",
    "    mc.add(fst.MakePotential(fst.MakeLennardJones()))\n",
    "    mc.add(fst.MakePotential(fst.MakeLongRangeCorrections()))\n",
    "    mc.set(fst.MakeThermoParams(fst.args({\"beta\": str(1./1.5),\n",
    "                                          \"chemical_potential\": \"-2.352321\"})))\n",
    "    mc.set(fst.MakeFlatHistogram(\n",
    "        fst.MakeMacrostateNumParticles(\n",
    "              fst.Histogram(fst.args({\"width\": \"1\", \"max\": str(mx), \"min\": str(mn)}))),\n",
    "        fst.MakeTransitionMatrix(fst.args({\"min_sweeps\": \"10\"}))))\n",
    "    mc.add(fst.MakeTrialTranslate(fst.args({\"weight\": \"1.\", \"tunable_param\": \"1.\"})))\n",
    "    mc.add(fst.MakeTrialTransfer(fst.args({\"particle_type\": \"0\", \"weight\": \"4\"})))\n",
    "    mc.add(fst.MakeCheckEnergy(fst.args({\"trials_per\": str(trials_per), \"tolerance\": \"0.0001\"})))\n",
    "    mc.add(fst.MakeTune())\n",
    "    mc.add(fst.MakeLogAndMovie(fst.args({\"trials_per\": str(trials_per), \"file_name\": \"clones\" + str(thread)})))\n",
    "    mc.add(fst.MakeCriteriaUpdater(fst.args({\"trials_per\": str(trials_per)})))\n",
    "    mc.add(fst.MakeCriteriaWriter(fst.args({\n",
    "        \"trials_per\": str(trials_per),\n",
    "        \"file_name\": \"clones\" + str(thread) + \"_crit.txt\"})))\n",
    "    return mc\n",
    "\n",
    "windows=fst.WindowExponential(fst.args({\n",
    "  \"alpha\": \"2\",\n",
    "  \"num\": \"2\",\n",
    "  \"maximum\": \"50\",\n",
    "  \"extra_overlap\": \"2\"})).boundaries()\n",
    "print(windows)\n",
    "\n",
    "clones = fst.Clones()\n",
    "for proc, win in enumerate(windows):\n",
    "    clones.add(mc(proc, win[0], win[1]))\n",
    "clones.initialize_and_run_until_complete()\n",
    "#print(clones.ln_prob().values())\n",
    "open('clones.fst', 'w').write(clones.serialize())"
   ]
  },
  {
   "cell_type": "markdown",
   "metadata": {},
   "source": [
    "You may post-process the simulations from the rst file."
   ]
  },
  {
   "cell_type": "code",
   "execution_count": 2,
   "metadata": {},
   "outputs": [],
   "source": [
    "clones2 = fst.Clones().deserialize(pyfeasst.read_checkpoint('clones.fst'))\n",
    "# import matplotlib.pyplot as plt\n",
    "# plt.plot(clones2.ln_prob().values())"
   ]
  },
  {
   "cell_type": "markdown",
   "metadata": {},
   "source": [
    "Did this tutorial work as expected? Did you find any inconsistencies or have any comments? Please [contact](../../../CONTACT.rst) us. Any feedback is appreciated!"
   ]
  }
 ],
 "metadata": {
  "kernelspec": {
   "display_name": "Python 3",
   "language": "python",
   "name": "python3"
  },
  "language_info": {
   "codemirror_mode": {
    "name": "ipython",
    "version": 3
   },
   "file_extension": ".py",
   "mimetype": "text/x-python",
   "name": "python",
   "nbconvert_exporter": "python",
   "pygments_lexer": "ipython3",
   "version": "3.8.10"
  }
 },
 "nbformat": 4,
 "nbformat_minor": 2
}
