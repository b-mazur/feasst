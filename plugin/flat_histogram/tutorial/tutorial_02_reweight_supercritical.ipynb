{
 "cells": [
  {
   "cell_type": "markdown",
   "metadata": {},
   "source": [
    "# Analysis of a one-phase (supercritical) simulation\n",
    "\n",
    "In the previous example, we generated a macrostate distribution and average energy over a small range of number of particles.\n",
    "In this example, we demonstrate how to analyze a macrostate probability distribution and average energy from the NIST SRSW for $T^*=1.5$.\n",
    "You could alternatively use the previous tutorial to generate a macrostate distribution with $N_{max}=370$ rather than using the NIST SRSW data set.\n",
    "If you do use your own data, then the values will not be exactly the same due to statistical error.\n",
    "\n",
    "We begin with canonical ensemble average properties at each value of $N$ as well as the probability to observe this $N$ for a given $\\mu$.\n",
    "From the plots below, we can estimate our most probable state is approximately $N=310$, with an average energy of approximately $-1250$.\n",
    "But there is a more rigorous way to compute grand canonical ensemble averages as described below, which will yield a more precise result and, with the help of histogram reweighting, will yield properties continuously in $N$.\n",
    "\n",
    "Note that this tutorial uses pyfeasst (https://pypi.org/project/pyfeasst/) for analysis."
   ]
  },
  {
   "cell_type": "code",
   "execution_count": 1,
   "metadata": {},
   "outputs": [],
   "source": [
    "import numpy as np\n",
    "import pandas as pd\n",
    "from pyfeasst import macrostate_distribution\n",
    "\n",
    "srsw = macrostate_distribution.MacrostateDistribution(\n",
    "    file_name=\"../test/data/stat150.csv\",\n",
    "    macrostate_header='N',\n",
    "    ln_prob_header='lnPI')\n",
    "# %matplotlib inline\n",
    "# %config InlineBackend.figure_format = 'svg'\n",
    "# import matplotlib.pyplot as plt\n",
    "# plt.plot(srsw.ln_prob(), label=r'$\\ln\\Pi$')\n",
    "# plt.plot(srsw.dataframe()['energy'], label=r'$U$')\n",
    "# plt.axvline(310, color='black')\n",
    "# plt.axhline(-1250, color='black')\n",
    "# plt.legend()"
   ]
  },
  {
   "cell_type": "markdown",
   "metadata": {},
   "source": [
    "Note that this macrostate distribution has only one maximum and therefore only one stable phase.\n",
    "The next tutorial will consider a lower temperature with phase separation.\n",
    "\n",
    "## Grand canonical ensemble averages\n",
    "\n",
    "For a macrostate of the number of particles, $N$, the canonical ensemble average of some extensive quantity, $A$, from a flat histogram simulation is computed as follows:\n",
    "\n",
    "$$\\langle A\\rangle_{NVT}(N) = \\frac{\\sum_{i=0}^{N_{trial}} A(i) \\delta(n_i - N)}{\\sum_{i=0}^{N_{trial}} \\delta(n_i - N)},$$\n",
    "\n",
    "where $\\delta$ is the Dirac delta function.\n",
    "Instead of only utilizing the canonical ensemble averages at only discrete values of the macrostate, one should instead compute a grand canonical ensemble average using the macrostate probability distribution, $\\Pi$, and all of the canonical ensemble averages in the range $N \\epsilon (N_{min}, N_{max})$, or $(0, 370)$ in this example.\n",
    "\n",
    "Thus, grand canonical ensemble averages are defined as:\n",
    "\n",
    "$$\\langle A \\rangle_{\\mu VT}(\\langle N\\rangle_{\\mu VT}) = \\sum_{n=N_{min}}^{N_{max}}\\langle A \\rangle_{NVT}(n)\\Pi(n; \\mu)$$\n",
    "\n",
    "Where\n",
    "\n",
    "$$\\langle N\\rangle_{\\mu VT} = \\sum_{n=N_{min}}^{N_{max}} n\\Pi(n; \\mu)$$\n",
    "\n",
    "The grand canonical averaged quantity, $A$, must be extensive.\n",
    "To obtain an intensive quantity, divide $\\langle A\\rangle_{\\mu VT}$ by $\\langle N\\rangle_{\\mu VT}$.\n",
    "\n",
    "As an example, $\\langle N\\rangle_{\\mu VT}$ and $\\langle U\\rangle_{\\mu VT}$ are computed as:"
   ]
  },
  {
   "cell_type": "code",
   "execution_count": 2,
   "metadata": {},
   "outputs": [
    {
     "name": "stdout",
     "output_type": "stream",
     "text": [
      "N = 310.41794218796815\n",
      "U = -1241.6148817462106\n"
     ]
    }
   ],
   "source": [
    "N_muvt = srsw.average_macrostate()\n",
    "print('N =', N_muvt)\n",
    "assert abs(N_muvt - 310.41794218796804) < 1e-8\n",
    "assert N_muvt == (np.exp(srsw.ln_prob()) * srsw.macrostates()).sum()\n",
    "\n",
    "U_muvt = srsw.ensemble_average('energy')\n",
    "print('U =', U_muvt)\n",
    "assert abs(U_muvt - -1241.6148817462101) < 1e-8\n",
    "assert U_muvt == (np.exp(srsw.ln_prob()) * srsw.dataframe()['energy']).sum()"
   ]
  },
  {
   "cell_type": "markdown",
   "metadata": {},
   "source": [
    "Now that the grand canonical ensemble averages are computed for the particular value of the chemical potential, $\\mu$, the macrostate distribution can be reweighted to different chemical potentials, $\\mu$.\n",
    "Thus, with a continuous variation in $\\mu$ one can also obtain a continuous variation in the grand canonical ensemble averages, within the limits of $N_{min}$, $N_{max}$.\n",
    "\n",
    "What values of $N_{min}$ and $N_{max}$ should you choose for your system?\n",
    "$N_{min} = 0$ is a natural choice if feasible.\n",
    "These bounds, especially $N_{max}$, should be chosen such that $\\Pi$ is vanishingly small and therefore the canonical ensemble average does not contribute to the grand canonical ensemble average.\n",
    "\n",
    "## Histogram reweighting\n",
    "\n",
    "Analysis of flat histogram simulations is greatly enhanced by the use of histogram reweighting, which allows you to obtain information continuously as a function of the macrostate's thermodynamic conjugate.\n",
    "Thus, for the grand canonical ensemble with the number of particles as the macrostate, $N$, we can reweight to various values of chemical potential, $\\mu$.\n",
    "For microcanonical partition function, $\\Omega(N,V,U)$, canonical, $Q(N,V,T)$ and grand canonical, $\\Xi(\\mu, V, T)$, the probability to observe a state, $\\Pi$ is given by\n",
    "\n",
    "$$\\ln\\Pi(N,U; \\mu, V, \\beta) = -\\beta U + \\beta \\mu N + \\ln\\Omega(N,U,V) - \\ln\\Xi(\\mu,V,T).$$\n",
    "\n",
    "Therefore, the difference between two $\\ln\\Pi$ at different values of $\\mu$ is known within a constant, C\n",
    "\n",
    "$$\\ln\\Pi(N; \\mu, V, \\beta) = \\ln\\Pi_0(N; \\mu_0, V, \\beta) + N\\beta(\\mu - \\mu_0) + C.$$\n",
    "\n",
    "Thus, to reweight a histogram to a different value of $\\mu$, use the equation above and remove the constant by renormalization, $\\sum \\Pi = 1$.\n",
    "The thermodynamic conjugate to $N$ is $\\beta\\mu$, while the conjugate of $U$ is $-\\beta$. "
   ]
  },
  {
   "cell_type": "code",
   "execution_count": 3,
   "metadata": {},
   "outputs": [
    {
     "name": "stdout",
     "output_type": "stream",
     "text": [
      "N(beta_mu = -2.3333333333333335 ) = 153.44171767002885\n",
      "U(beta_mu = -2.3333333333333335 ) = -321.87522543435364\n"
     ]
    }
   ],
   "source": [
    "# reweight to a different mu and calculate the average number of particles and energy\n",
    "beta_mu_rw = -2.333333333333333333\n",
    "beta_mu = -1.568214\n",
    "\n",
    "srsw.reweight(delta_beta_mu=beta_mu_rw - beta_mu, inplace=True)\n",
    "\n",
    "N_muvt_rw = srsw.average_macrostate()\n",
    "print('N(beta_mu =', beta_mu_rw, ') =', N_muvt_rw)\n",
    "assert abs(N_muvt_rw - 153.44171767002885) < 1e-11\n",
    "\n",
    "U_muvt_rw = srsw.ensemble_average('energy')\n",
    "print('U(beta_mu =', beta_mu_rw, ') =', U_muvt_rw)\n",
    "assert abs(U_muvt_rw + 321.87522543435364) < 1e-10\n",
    "\n",
    "# plt.plot(srsw.ln_prob(), label=r'$\\ln\\Pi$')\n",
    "# plt.plot(srsw.dataframe()['energy'], label=r'$U$')\n",
    "# plt.axvline(N_muvt_rw, color='black')\n",
    "# plt.axhline(U_muvt_rw, color='black')\n",
    "# plt.legend()"
   ]
  },
  {
   "cell_type": "markdown",
   "metadata": {},
   "source": [
    "Note that decreasing the chemical potential leads to a smaller number of particles.\n",
    "\n",
    "When there are multiple peaks in $\\ln\\Pi$ whose locations are nearly invariant to system size, this often corresponds to different macroscopic phases."
   ]
  }
 ],
 "metadata": {
  "kernelspec": {
   "display_name": "Python 3 (ipykernel)",
   "language": "python",
   "name": "python3"
  },
  "language_info": {
   "codemirror_mode": {
    "name": "ipython",
    "version": 3
   },
   "file_extension": ".py",
   "mimetype": "text/x-python",
   "name": "python",
   "nbconvert_exporter": "python",
   "pygments_lexer": "ipython3",
   "version": "3.10.6"
  }
 },
 "nbformat": 4,
 "nbformat_minor": 2
}
