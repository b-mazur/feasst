{
 "cells": [
  {
   "cell_type": "markdown",
   "metadata": {},
   "source": [
    "# Ideal gas equation of state using grand canonical ensemble transition-matrix Monte Carlo\n",
    "\n",
    "In this example, the ideal gas equation of state is obtained as a test of the flat histogram method."
   ]
  },
  {
   "cell_type": "code",
   "execution_count": 1,
   "metadata": {},
   "outputs": [],
   "source": [
    "import feasst as fst\n",
    "\n",
    "monte_carlo = fst.MonteCarlo()\n",
    "monte_carlo.add(fst.MakeConfiguration(fst.args({\"cubic_box_length\": \"8\",\n",
    "    \"particle_type\": fst.install_dir()+'/forcefield/atom.fstprt'})))\n",
    "monte_carlo.add(fst.MakePotential(fst.MakeDontVisitModel()))\n",
    "monte_carlo.set(fst.MakeThermoParams(fst.args({\"beta\": str(1./1.2), \"chemical_potential\": \"-3\"})))\n",
    "criteria = fst.MakeFlatHistogram(\n",
    "    fst.MakeMacrostateNumParticles(fst.Histogram(fst.args({\"width\": \"1\", \"min\": \"0\", \"max\": \"50\"}))),\n",
    "    fst.MakeTransitionMatrix(fst.args({\"min_sweeps\": \"100\"})))\n",
    "monte_carlo.set(criteria)\n",
    "monte_carlo.add(fst.MakeTrialTransfer(fst.args({\"particle_type\": \"0\"})))\n",
    "monte_carlo.add(fst.MakeCriteriaUpdater(fst.args({\"trials_per\": str(1e5)})))\n",
    "monte_carlo.add(fst.MakeCriteriaWriter(fst.args({\"trials_per\": str(1e5), \"file_name\": \"id_fh.txt\"})))"
   ]
  },
  {
   "cell_type": "code",
   "execution_count": 2,
   "metadata": {},
   "outputs": [
    {
     "name": "stdout",
     "output_type": "stream",
     "text": [
      "CPU times: user 13.7 s, sys: 32.6 ms, total: 13.7 s\n",
      "Wall time: 13.7 s\n"
     ]
    }
   ],
   "source": [
    "%time\n",
    "monte_carlo.run_until_complete()"
   ]
  },
  {
   "cell_type": "markdown",
   "metadata": {},
   "source": [
    "Check the ideal gas relationship, $\\beta P = \\rho$"
   ]
  },
  {
   "cell_type": "code",
   "execution_count": 3,
   "metadata": {},
   "outputs": [
    {
     "name": "stdout",
     "output_type": "stream",
     "text": [
      "rho beta*P difference\n",
      "0.28352371179938896 0.2834109250174366 0.00039780370127273645\n",
      "0.3133659767306003 0.3132305130399782 0.0004322858915171146\n",
      "0.3463511041451104 0.3461888474487959 0.00046847460387045015\n",
      "0.38281022254492336 0.3826164949224828 0.0005060670040436532\n",
      "0.4231092809374098 0.4228788472982002 0.0005446196753213783\n",
      "0.46765266421644996 0.46737978153695275 0.0005835157166365068\n",
      "0.5168871656966174 0.516565698838592 0.0006219284968937977\n",
      "0.5713063473665461 0.570929980132204 0.0006587835687051902\n",
      "0.631455320931917 0.6310178983430001 0.000692721360351034\n",
      "0.6979359862846308 0.697432031310502 0.0007220647509688094\n",
      "0.771412769454396 0.7708382231478559 0.0007447975056810163\n",
      "0.8526189105229772 0.85197214642801 0.0007585617524838995\n",
      "0.9423633649624151 0.9416465232340795 0.0007606850552431821\n",
      "1.0415384013082887 1.0407590703673615 0.0007482498388424741\n",
      "1.151128006056329 1.1503012436171116 0.0007182193768786593\n",
      "1.2722172448799705 1.2713678689055983 0.0006676343822491493\n",
      "1.4060027781173632 1.4051677653898988 0.00059389123582132\n",
      "1.553804785548966 1.553035488203192 0.0004951055325153053\n",
      "1.7170806133044854 1.7164443469548176 0.00037055123955032077\n",
      "1.8974404989316966 1.8970208897643575 0.0002211448356749246\n",
      "2.096665732999686 2.0965610788082754 4.991458092895584e-05\n",
      "2.3167295381427033 2.317048416181871 0.00013764146134342958\n",
      "2.5598207392917223 2.560674297916247 0.00033344468674045835\n",
      "2.8283699111229637 2.829860863660274 0.0005271419878449812\n",
      "3.1250770935657326 3.1272865500817195 0.0007070086432543476\n",
      "3.4529394082330316 3.4559144280807605 0.0008615905163686932\n",
      "3.8152761774003796 3.8190231990755215 0.0009821102066835952\n",
      "4.215748861013312 4.220240465294717 0.0010654345003666688\n",
      "4.658373975902694 4.663577650034231 0.0011170580461026258\n",
      "5.147530006393303 5.153465882359845 0.001153150337962039\n",
      "5.687964826353012 5.69479251384809 0.0012003744227540025\n",
      "6.284818132906159 6.29293897008084 0.001292135588166321\n",
      "6.9436819457861985 6.95382252632704 0.0014604039499528376\n",
      "7.670727114890588 7.68394720157967 0.0017234463553552626\n",
      "8.472918308514009 8.490471605695918 0.0020716943729139903\n",
      "9.358315789513808 9.381302804120729 0.0024563196117701747\n",
      "10.336412753898973 10.365222839615774 0.0027872421896013577\n",
      "11.41838675833331 11.452046007393868 0.0029478112602896456\n",
      "12.617086537971835 12.652789611353448 0.002829739914532725\n",
      "13.946605819631271 13.97982345527495 0.002381772029214524\n",
      "15.421495767263217 15.446956881952453 0.0016510146015333849\n",
      "17.056018442469547 17.06944424040934 0.0007871589717773908\n",
      "18.86409972506837 18.863945156385697 8.19380118466384e-06\n",
      "20.86039343798047 20.84853512853993 0.0005684604883314792\n",
      "23.062002864519698 23.042863474283944 0.0008299101490963912\n",
      "25.489623715743093 25.468465733436904 0.0008300625596572297\n",
      "28.166798365996392 28.14910842417289 0.0006280423352927889\n",
      "31.112973356044062 31.110824232384275 6.907484010587606e-05\n"
     ]
    }
   ],
   "source": [
    "import numpy as np\n",
    "\n",
    "volume = monte_carlo.configuration().domain().volume()\n",
    "gce = fst.GrandCanonicalEnsemble(criteria, monte_carlo.thermo_params().beta_mu())\n",
    "print('rho beta*P difference')\n",
    "for delta_conjugate in np.arange(-5, 5, 0.1):\n",
    "        lnpirw = gce.reweight(delta_conjugate)\n",
    "        if lnpirw.value(lnpirw.size()-1) < -6:\n",
    "            betaPV = gce.betaPV()\n",
    "            N = gce.average_macrostate()\n",
    "            print(N, betaPV, np.abs(1 - betaPV/N))\n",
    "            assert(np.abs(1 - betaPV/N) < 1e-2)"
   ]
  },
  {
   "cell_type": "markdown",
   "metadata": {},
   "source": [
    "Did this tutorial work as expected? Did you find any inconsistencies or have any comments? Please [contact](../../../CONTACT.rst) us. Any feedback is appreciated!"
   ]
  }
 ],
 "metadata": {
  "kernelspec": {
   "display_name": "Python 3",
   "language": "python",
   "name": "python3"
  },
  "language_info": {
   "codemirror_mode": {
    "name": "ipython",
    "version": 3
   },
   "file_extension": ".py",
   "mimetype": "text/x-python",
   "name": "python",
   "nbconvert_exporter": "python",
   "pygments_lexer": "ipython3",
   "version": "3.8.10"
  }
 },
 "nbformat": 4,
 "nbformat_minor": 2
}
