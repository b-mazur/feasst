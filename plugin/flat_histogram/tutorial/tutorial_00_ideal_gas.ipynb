{
 "cells": [
  {
   "cell_type": "markdown",
   "metadata": {},
   "source": [
    "# Ideal gas equation of state using grand canonical ensemble transition-matrix Monte Carlo\n",
    "\n",
    "In this example, the ideal gas equation of state is obtained as a test of the flat histogram method."
   ]
  },
  {
   "cell_type": "code",
   "execution_count": 1,
   "metadata": {},
   "outputs": [
    {
     "name": "stdout",
     "output_type": "stream",
     "text": [
      "# FEASST version: v0.19.0-59-gb2fd5186f4-dirty-hwh/newtutorials\n",
      "Configuration cubic_box_length 8 particle_type /home/hwh/feasst/forcefield/atom.fstprt  \n",
      "Potential Model IdealGas  \n",
      "ThermoParams beta 0.8333333333333334 chemical_potential -3  \n",
      "FlatHistogram Bias TransitionMatrix Macrostate MacrostateNumParticles max 50 min 0 min_sweeps 100 width 1  \n",
      "TrialTransfer particle_type 0  \n",
      "CriteriaUpdater trials_per 1e5  \n",
      "CriteriaWriter file_name id_fh.txt trials_per 1e5  \n",
      "Run until_criteria_complete true  \n",
      "# initializing random number generator with seed: 1652465998\n",
      " \n",
      " exit: 0\n"
     ]
    }
   ],
   "source": [
    "params={\"cubic_box_length\": 8, \"beta\": 1./1.2, \"mu\": -3}\n",
    "script=\"\"\"\n",
    "MonteCarlo\n",
    "Configuration cubic_box_length {cubic_box_length} particle_type /feasst/forcefield/atom.fstprt\n",
    "Potential Model IdealGas\n",
    "ThermoParams beta {beta} chemical_potential {mu}\n",
    "FlatHistogram Macrostate MacrostateNumParticles width 1 min 0 max 50 \\\n",
    "              Bias TransitionMatrix min_sweeps 100\n",
    "TrialTransfer particle_type 0\n",
    "CriteriaUpdater trials_per 1e5\n",
    "CriteriaWriter trials_per 1e5 file_name id_fh.txt\n",
    "Run until_criteria_complete true\n",
    "\"\"\".format(**params)\n",
    "\n",
    "def run(script):\n",
    "    with open('script.txt', 'w') as file: file.write(script)\n",
    "    import subprocess\n",
    "    syscode = subprocess.call(\"~/feasst/build/bin/fst < script.txt > script.log\", shell=True, executable='/bin/bash')\n",
    "    with open('script.log', 'r') as file: print(file.read(), '\\n', 'exit:', syscode)\n",
    "run(script)"
   ]
  },
  {
   "cell_type": "markdown",
   "metadata": {},
   "source": [
    "Check the ideal gas relationship, $\\beta P = \\rho$"
   ]
  },
  {
   "cell_type": "code",
   "execution_count": 2,
   "metadata": {},
   "outputs": [
    {
     "name": "stdout",
     "output_type": "stream",
     "text": [
      "N betaPV difference\n",
      "0.281615437360333 0.28143886331769313 0.00017657404263987653\n",
      "0.3112721290573395 0.3110584748658264 0.00021365419151309073\n",
      "0.34405568678745374 0.3437974829119714 0.0002582038754823657\n",
      "0.38029641695368716 0.37998481251059724 0.00031160444308991897\n",
      "0.4203595816256132 0.41998413789932987 0.0003754437262833421\n",
      "0.46464908608091554 0.46419755942857654 0.000451526652338996\n",
      "0.5136115446272471 0.513069667880601 0.000541876746646075\n",
      "0.5677407591737768 0.5670920357124472 0.0006487234613296033\n",
      "0.6275826471274961 0.626808178308256 0.0007744688192401483\n",
      "0.69374065753872 0.6928190320982597 0.0009216254404603719\n",
      "0.7668817173956256 0.7657890004354689 0.00109271696015667\n",
      "0.847742754248729 0.846452622510358 0.0012901317383710031\n",
      "0.9371378480250632 0.9356219255100562 0.0015159225150069844\n",
      "1.0359660755637645 1.0341945260068717 0.0017715495568928485\n",
      "1.1452201281579077 1.1431625536913854 0.0020575744665223272\n",
      "1.2659958075469175 1.263622479772529 0.0023733277743884784\n",
      "1.3995025412074162 1.39678594459229 0.0027165966151261323\n",
      "1.5470751033002865 1.5439916952887414 0.0030834080115451634\n",
      "1.71018677860628 1.7067187655177012 0.003468013088578914\n",
      "1.8904642504813418 1.8866010553042536 0.003863195177088219\n",
      "2.0897045054846926 2.0854434981879484 0.004261007296744168\n",
      "2.309893987873797 2.3052400299070386 0.004653957966758604\n",
      "2.553230057674812 2.5481935884175315 0.005036469257280629\n",
      "2.822144465709936 2.8167383648224287 0.005406100887507481\n",
      "3.119328065709423 3.113564472459403 0.0057635932500201825\n",
      "3.4477554610686054 3.441645096550535 0.006110364518070455\n",
      "3.8107080496964585 3.8042660405155924 0.006442009180866126\n",
      "4.211794531409895 4.205057451718698 0.006737079691196968\n",
      "4.654970032129825 4.64802750556704 0.006942526562784934\n",
      "5.14455891263224 5.1375981235764145 0.006960789055825423\n",
      "5.685291299670026 5.678643555343836 0.006647744326190086\n",
      "6.282366707172363 6.276533855295848 0.005832851876514944\n",
      "6.941555272789914 6.937186551724324 0.004368721065590719\n",
      "7.669334194062063 7.667130300977221 0.0022038930848422567\n",
      "8.473035855257057 8.473583056287525 -0.0005472010304679031\n",
      "9.360967714364946 9.364543987165762 -0.0035762728008155165\n",
      "10.342472739296538 10.348894541569006 -0.006421802272468469\n",
      "11.42794236676585 11.436502837741468 -0.008560470975618628\n",
      "12.628844475097726 12.63832946216202 -0.009484987064293904\n",
      "13.957828172984959 13.966539616250655 -0.008711443265696062\n",
      "15.428891102633221 15.434629404273574 -0.0057383016403527165\n",
      "17.05751515320802 17.057568189799145 -5.30365911259878e-05\n",
      "18.860674701457423 18.85194880475239 0.008725896705033875\n",
      "20.856642001532833 20.836129084981156 0.020512916551677307\n",
      "23.06456423690229 23.03034185572321 0.03422238117907739\n",
      "25.504157779887613 25.45676336580384 0.04739441408377232\n",
      "28.195739894729734 28.13957463872861 0.05616525600112254\n",
      "31.155436173521586 31.104879531643448 0.050556641878138464\n"
     ]
    }
   ],
   "source": [
    "import numpy as np\n",
    "import pandas as pd\n",
    "import matplotlib.pyplot as plt\n",
    "\n",
    "fh=pd.read_csv('id_fh.txt', comment=\"#\")\n",
    "#print(fh)\n",
    "print('N betaPV difference')\n",
    "for delta_conjugate in np.arange(-5, 5, 0.1):\n",
    "    fh['ln_prob_rw'] = fh['ln_prob'] + fh['state']*delta_conjugate - fh['ln_prob'].min()  # avoid negative log\n",
    "    fh['ln_prob_rw'] -= np.log(sum(np.exp(fh['ln_prob_rw'])))   # renormalize\n",
    "    if fh['ln_prob_rw'].values[-1] < -6:\n",
    "        #plt.plot(fh['ln_prob_rw'])\n",
    "        N = (np.exp(fh[\"ln_prob_rw\"]) * fh[\"state\"]).sum()\n",
    "        betaPV = -fh[\"ln_prob_rw\"][0] - np.log(np.exp(fh[\"ln_prob_rw\"]).sum())\n",
    "        print(N, betaPV, N-betaPV)\n",
    "        assert(np.abs(1 - betaPV/N) < 1e-2)"
   ]
  },
  {
   "cell_type": "markdown",
   "metadata": {},
   "source": [
    "Did this tutorial work as expected? Did you find any inconsistencies or have any comments? Please [contact](../../../CONTACT.rst) us. Any feedback is appreciated!"
   ]
  }
 ],
 "metadata": {
  "kernelspec": {
   "display_name": "Python 3",
   "language": "python",
   "name": "python3"
  },
  "language_info": {
   "codemirror_mode": {
    "name": "ipython",
    "version": 3
   },
   "file_extension": ".py",
   "mimetype": "text/x-python",
   "name": "python",
   "nbconvert_exporter": "python",
   "pygments_lexer": "ipython3",
   "version": "3.8.10"
  }
 },
 "nbformat": 4,
 "nbformat_minor": 2
}
