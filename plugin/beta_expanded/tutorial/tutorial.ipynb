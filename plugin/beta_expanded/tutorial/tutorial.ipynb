{
 "cells": [
  {
   "cell_type": "markdown",
   "metadata": {},
   "source": [
    "# Beta expanded ensemble\n",
    "\n",
    "Example expanded ensemble simulation inverse temperature."
   ]
  },
  {
   "cell_type": "code",
   "execution_count": 3,
   "metadata": {},
   "outputs": [],
   "source": [
    "import feasst as fst\n",
    "\n",
    "mc = fst.MonteCarlo()\n",
    "mc.add(fst.MakeConfiguration(fst.args({\"cubic_box_length\": \"8\",\n",
    "                                       \"particle_type0\": fst.install_dir() + \"/forcefield/lj.fstprt\"})))\n",
    "mc.add(fst.MakePotential(fst.MakeLennardJones()))\n",
    "mc.add(fst.MakePotential(fst.MakeLongRangeCorrections()))\n",
    "mc.set(fst.MakeThermoParams(fst.args({\"beta\": \"1.2\", \"chemical_potential\": \"1.\"})))\n",
    "beta_min = 0.8\n",
    "beta_max = 1.2\n",
    "beta_num = 5\n",
    "delta_beta = str((beta_max - beta_min)/(beta_num-1))\n",
    "mc.set(fst.MakeFlatHistogram(\n",
    "    fst.MakeMacrostateBeta(\n",
    "        fst.Histogram(fst.args({\"width\": delta_beta, \"max\": str(beta_max), \"min\": str(beta_min)}))),\n",
    "    fst.MakeWLTM(fst.args({\"collect_flatness\": \"18\", \"min_flatness\": \"22\", \"min_sweeps\": \"10\"}))))\n",
    "mc.add(fst.MakeTrialTranslate(fst.args({\"weight\": \"1.\", \"tunable_param\": \"1.\"})))\n",
    "mc.add(fst.MakeTrialAdd(fst.args({\"particle_type\": \"0\"})))\n",
    "mc.run(fst.MakeRun(fst.args({\"until_num_particles\": \"10\"})))\n",
    "mc.run(fst.MakeRemoveTrial(fst.args({\"name\": \"TrialAdd\"})))\n",
    "mc.add(fst.MakeTrialBeta(fst.args({\"fixed_beta_change\": delta_beta})))\n",
    "trials_per = str(int(1e4))\n",
    "mc.add(fst.MakeLogAndMovie(fst.args({\"trials_per\": trials_per, \"file_name\": \"lj_beta\"})))\n",
    "mc.add(fst.MakeCheckEnergyAndTune(fst.args({\"trials_per\": trials_per})))\n",
    "mc.add(fst.MakeCriteriaUpdater(fst.args({\"trials_per\": trials_per})))\n",
    "mc.add(fst.MakeCriteriaWriter(fst.args({\"trials_per\": trials_per, \"file_name\": \"lj_beta_crit.txt\",\n",
    "    \"file_name_append_phase\": \"true\"})))\n",
    "mc.add(fst.MakeEnergy(fst.args({\n",
    "    \"file_name\": \"lj_beta_energy\",\n",
    "    \"file_name_append_phase\": \"true\",\n",
    "    \"trials_per_update\": \"1\",\n",
    "    \"trials_per_write\": trials_per,\n",
    "    \"multistate\": \"true\"})))\n",
    "mc.attempt(int(1e6))"
   ]
  },
  {
   "cell_type": "markdown",
   "metadata": {},
   "source": [
    "Did this tutorial work as expected? Did you find any inconsistencies or have any comments? Please [contact](../../../CONTACT.rst) us. Any feedback is appreciated!"
   ]
  }
 ],
 "metadata": {
  "kernelspec": {
   "display_name": "Python 3",
   "language": "python",
   "name": "python3"
  },
  "language_info": {
   "codemirror_mode": {
    "name": "ipython",
    "version": 3
   },
   "file_extension": ".py",
   "mimetype": "text/x-python",
   "name": "python",
   "nbconvert_exporter": "python",
   "pygments_lexer": "ipython3",
   "version": "3.8.10"
  }
 },
 "nbformat": 4,
 "nbformat_minor": 4
}
