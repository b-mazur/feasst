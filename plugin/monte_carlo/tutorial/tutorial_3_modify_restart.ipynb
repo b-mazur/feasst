{
 "cells": [
  {
   "cell_type": "markdown",
   "id": "unknown-specific",
   "metadata": {},
   "source": [
    "# Modify a checkpoint file during restarting to run longer\n",
    "\n",
    "In this example, the first simulation generates a checkpoint file. The second simulation runs from the checkpoint file after modification of the number of iterations to complete a simulation."
   ]
  },
  {
   "cell_type": "code",
   "execution_count": 1,
   "id": "split-sculpture",
   "metadata": {},
   "outputs": [
    {
     "name": "stdout",
     "output_type": "stream",
     "text": [
      "# FEASST version: v0.25.3\n",
      "# Usage: ./fst < file.txt\n",
      "MonteCarlo\n",
      "Checkpoint checkpoint_file lj.fst  \n",
      "RandomMT19937 seed 1572362164  \n",
      "# initializing random number generator with seed: 1572362164\n",
      "Configuration cubic_side_length 55.0321208149104 particle_type0 /home/hwh/feasst/particle/lj.fstprt  \n",
      "Potential Model LennardJones VisitModel VisitModelCell min_length max_cutoff  \n",
      "Potential VisitModel LongRangeCorrections  \n",
      "ThermoParams beta 1.111111111111111 chemical_potential0 -1  \n",
      "Metropolis  \n",
      "TrialTranslate tunable_param 2 weight 1  \n",
      "Tune  \n",
      "CheckEnergy tolerance 1e-8 trials_per_update 1e4  \n",
      "TrialAdd particle_type 0 weight 2  \n",
      "Run until_num_particles 500  \n",
      "RemoveTrial name TrialAdd  \n",
      "Run num_trials 1e5  \n",
      "RemoveModify name Tune  \n",
      "Log clear_file true output_file lj.csv trials_per_write 1e4  \n",
      "Energy output_file lj_en.csv trials_per_write 1e4  \n",
      "Movie output_file lj.xyz trials_per_write 1e4  \n",
      "Metropolis num_iterations_to_complete 1e2 num_trials_per_iteration 1e4  \n",
      "Run until_criteria_complete true  \n",
      "WriteCheckpoint  \n",
      "# FEASST version: v0.25.3\n",
      "# Usage: ./fst < file.txt\n",
      "# Restarting from file: lj.fst\n",
      "Metropolis num_iterations_to_complete 2e2 num_trials_per_iteration 1e4  \n",
      "Run until_criteria_complete true  \n",
      "WriteCheckpoint  \n"
     ]
    }
   ],
   "source": [
    "import pandas as pd\n",
    "import subprocess\n",
    "\n",
    "# Run a feasst simulation with the given parameters\n",
    "def run_fst():\n",
    "    with open(\"launch00.txt\", \"w\") as myfile: myfile.write(\"\"\"\n",
    "MonteCarlo\n",
    "Checkpoint checkpoint_file lj.fst\n",
    "RandomMT19937 seed 1572362164\n",
    "Configuration cubic_side_length 55.0321208149104 particle_type0 /feasst/particle/lj.fstprt\n",
    "Potential Model LennardJones VisitModel VisitModelCell min_length max_cutoff\n",
    "Potential VisitModel LongRangeCorrections\n",
    "ThermoParams beta 1.111111111111111 chemical_potential0 -1\n",
    "Metropolis\n",
    "TrialTranslate weight 1 tunable_param 2\n",
    "Tune\n",
    "CheckEnergy trials_per_update 1e4 tolerance 1e-8\n",
    "TrialAdd weight 2 particle_type 0\n",
    "Run until_num_particles 500\n",
    "RemoveTrial name TrialAdd\n",
    "Run num_trials 1e5\n",
    "RemoveModify name Tune\n",
    "Log trials_per_write 1e4 output_file lj.csv clear_file true\n",
    "Energy trials_per_write 1e4 output_file lj_en.csv\n",
    "Movie trials_per_write 1e4 output_file lj.xyz\n",
    "Metropolis num_trials_per_iteration 1e4 num_iterations_to_complete 1e2\n",
    "Run until_criteria_complete true\n",
    "WriteCheckpoint\n",
    "\"\"\")\n",
    "    syscode = subprocess.call(\"../../../build/bin/fst < launch00.txt\", shell=True, executable='/bin/bash')\n",
    "    if syscode > 0: sys.exit(1)\n",
    "\n",
    "run_fst()\n",
    "df = pd.read_csv('lj.csv')\n",
    "assert len(df) == 101\n",
    "\n",
    "# Write a second run script that restarts the simulation and adds some trials\n",
    "with open('continue.txt', 'w') as myfile: myfile.write(\"\"\"Restart lj.fst\n",
    "Metropolis num_trials_per_iteration 1e4 num_iterations_to_complete 2e2\n",
    "Run until_criteria_complete true\n",
    "WriteCheckpoint\n",
    "\"\"\")\n",
    "\n",
    "syscode = subprocess.call(\"../../../build/bin/fst < continue.txt\", shell=True, executable='/bin/bash')\n",
    "df = pd.read_csv('lj.csv')\n",
    "assert len(df) == 302"
   ]
  },
  {
   "cell_type": "markdown",
   "id": "numeric-tattoo",
   "metadata": {},
   "source": [
    "Did this tutorial work as expected? Did you find any inconsistencies or have any comments? Please [contact](../../../CONTACT.rst) us. Any feedback is appreciated!"
   ]
  }
 ],
 "metadata": {
  "kernelspec": {
   "display_name": "Python 3 (ipykernel)",
   "language": "python",
   "name": "python3"
  },
  "language_info": {
   "codemirror_mode": {
    "name": "ipython",
    "version": 3
   },
   "file_extension": ".py",
   "mimetype": "text/x-python",
   "name": "python",
   "nbconvert_exporter": "python",
   "pygments_lexer": "ipython3",
   "version": "3.12.1"
  }
 },
 "nbformat": 4,
 "nbformat_minor": 5
}
