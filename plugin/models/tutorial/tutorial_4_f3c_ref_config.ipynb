{
 "cells": [
  {
   "cell_type": "markdown",
   "id": "organizational-exclusion",
   "metadata": {},
   "source": [
    "# F3C potential test\n",
    "In this example, the potential energy between two sites is compared to the analytical value."
   ]
  },
  {
   "cell_type": "code",
   "execution_count": 1,
   "id": "split-sculpture",
   "metadata": {},
   "outputs": [
    {
     "name": "stdout",
     "output_type": "stream",
     "text": [
      "# Usage: ./fst < file.txt\n",
      "FEASST version 0.25.6\n",
      "MonteCarlo\n",
      "Configuration particle_type0 /home/user/feasst/plugin/models/test/data/f3c_o.fstprt xyz_file two.xyz  \n",
      "Potential Asc 1 Model F3C  \n",
      "ThermoParams beta 1000000  \n",
      "Metropolis  \n",
      "#Info 0 [plugin/models/src/f3c.cpp:67] en_lj -0.0415671\n",
      "#Info 0 [plugin/models/src/f3c.cpp:68] en_q 46.7101\n",
      "#Info 0 [plugin/models/src/f3c.cpp:67] en_lj -0.0415671\n",
      "#Info 0 [plugin/models/src/f3c.cpp:68] en_q 46.7101\n",
      "Log clear_file true max_precision true output_file f3c_o.csv  \n",
      "Run num_trials 1  \n",
      "#Warn 0 [plugin/monte_carlo/src/monte_carlo.cpp:744] No Trials to attempt.\n",
      "# Usage: ./fst < file.txt\n",
      "FEASST version 0.25.6\n",
      "MonteCarlo\n",
      "Configuration particle_type0 /home/user/feasst/plugin/models/test/data/f3c_h.fstprt xyz_file two.xyz  \n",
      "Potential Asc 1 Model F3C  \n",
      "ThermoParams beta 1000000  \n",
      "Metropolis  \n",
      "#Info 0 [plugin/models/src/f3c.cpp:67] en_lj -6.37718e-07\n",
      "#Info 0 [plugin/models/src/f3c.cpp:68] en_q 11.6775\n",
      "#Info 0 [plugin/models/src/f3c.cpp:67] en_lj -6.37718e-07\n",
      "#Info 0 [plugin/models/src/f3c.cpp:68] en_q 11.6775\n",
      "Log clear_file true max_precision true output_file f3c_h.csv  \n",
      "Run num_trials 1  \n",
      "#Warn 0 [plugin/monte_carlo/src/monte_carlo.cpp:744] No Trials to attempt.\n",
      "# Usage: ./fst < file.txt\n",
      "FEASST version 0.25.6\n",
      "MonteCarlo\n",
      "Configuration add_particles_of_type0 1 add_particles_of_type1 1 particle_type0 /home/user/feasst/plugin/models/test/data/f3c_o.fstprt particle_type1 /home/user/feasst/plugin/models/test/data/f3c_h.fstprt xyz_file two.xyz  \n",
      "Potential Asc 1 Model F3C  \n",
      "ThermoParams beta 1000000  \n",
      "Metropolis  \n",
      "#Info 0 [plugin/models/src/f3c.cpp:67] en_lj -0.000626006\n",
      "#Info 0 [plugin/models/src/f3c.cpp:68] en_q -23.3551\n",
      "#Info 0 [plugin/models/src/f3c.cpp:67] en_lj -0.000626006\n",
      "#Info 0 [plugin/models/src/f3c.cpp:68] en_q -23.3551\n",
      "Log clear_file true max_precision true output_file f3c_h.csv  \n",
      "Run num_trials 1  \n",
      "#Warn 0 [plugin/monte_carlo/src/monte_carlo.cpp:744] No Trials to attempt.\n"
     ]
    }
   ],
   "source": [
    "import math\n",
    "import sys\n",
    "import subprocess\n",
    "import numpy as np\n",
    "import pandas as pd\n",
    "\n",
    "def run_fst(params):\n",
    "    \"\"\" Run a feasst simulation with the given parameters \"\"\"\n",
    "    with open(\"launch0.txt\", \"w\") as myfile: myfile.write(\"\"\"\n",
    "MonteCarlo\n",
    "Configuration {config_params}\n",
    "Potential Model F3C Asc 1\n",
    "ThermoParams beta 1000000\n",
    "Metropolis\n",
    "Log output_file {log}.csv max_precision true clear_file true\n",
    "Run num_trials 1\n",
    "\"\"\".format(**params))\n",
    "    syscode = subprocess.call(\"../../../build/bin/fst < launch0.txt\", shell=True, executable='/bin/bash')\n",
    "    if syscode > 0: sys.exit(1)\n",
    "\n",
    "def write_xyz(params):\n",
    "    \"\"\" Write an xyz file\"\"\"\n",
    "    with open(\"two.xyz\", \"w\") as myfile: myfile.write(\n",
    "\"\"\"2\n",
    "-1 20 20 20\n",
    "0 0 0 0\n",
    "1 0 0 {displacement}\"\"\".format(**params))\n",
    "\n",
    "\"\"\"Test the F3C potential against analytical calculation of two oyxgen sites\"\"\"\n",
    "params = {\"displacement\": 5, \"log\": \"f3c_o\",\n",
    "          \"config_params\": \"particle_type0 /feasst/plugin/models/test/data/f3c_o.fstprt xyz_file two.xyz\"}\n",
    "write_xyz(params)\n",
    "run_fst(params)\n",
    "df = pd.read_csv(params['log']+'.csv')\n",
    "assert 2 == df['num_particles_of_type0'][0]\n",
    "assert np.abs(-0.041567117565916176 + 46.71010086004122 - df['F3C'][0]) < 12\n",
    "\n",
    "\"\"\"Test the LJ potential against analytical calculation of two hydrogen sites\"\"\"\n",
    "params = {\"displacement\": 5, \"log\": \"f3c_h\",\n",
    "          \"config_params\": \"particle_type0 /feasst/plugin/models/test/data/f3c_h.fstprt xyz_file two.xyz\"}\n",
    "write_xyz(params)\n",
    "run_fst(params)\n",
    "df = pd.read_csv(params['log']+'.csv')\n",
    "assert 2 == df['num_particles_of_type0'][0]\n",
    "assert np.abs(-6.377176514562533e-07 + 11.677525215010306 - df['F3C'][0]) < 12\n",
    "\n",
    "\"\"\"Test the LJ potential against analytical calculation of an oxygen and hydrogen site\"\"\"\n",
    "params = {\"displacement\": 5, \"log\": \"f3c_h\",\n",
    "          \"config_params\": \"particle_type0 /feasst/plugin/models/test/data/f3c_o.fstprt particle_type1 /feasst/plugin/models/test/data/f3c_h.fstprt add_particles_of_type0 1 add_particles_of_type1 1 xyz_file two.xyz\"}\n",
    "write_xyz(params)\n",
    "run_fst(params)\n",
    "df = pd.read_csv(params['log']+'.csv')\n",
    "assert 1 == df['num_particles_of_type0'][0]\n",
    "assert 1 == df['num_particles_of_type1'][0]\n",
    "assert np.abs(-0.0006260058345921262 + -23.35505043002061 - df['F3C'][0]) < 12"
   ]
  },
  {
   "cell_type": "markdown",
   "id": "numeric-tattoo",
   "metadata": {},
   "source": [
    "Did this tutorial work as expected? Did you find any inconsistencies or have any comments? Please [contact](../../../CONTACT.rst) us. Any feedback is appreciated!"
   ]
  }
 ],
 "metadata": {
  "kernelspec": {
   "display_name": "Python 3 (ipykernel)",
   "language": "python",
   "name": "python3"
  },
  "language_info": {
   "codemirror_mode": {
    "name": "ipython",
    "version": 3
   },
   "file_extension": ".py",
   "mimetype": "text/x-python",
   "name": "python",
   "nbconvert_exporter": "python",
   "pygments_lexer": "ipython3",
   "version": "3.12.6"
  }
 },
 "nbformat": 4,
 "nbformat_minor": 5
}
