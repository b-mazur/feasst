{
 "cells": [
  {
   "cell_type": "markdown",
   "id": "organizational-exclusion",
   "metadata": {},
   "source": [
    "# Lennard Jones Alpha potential test\n",
    "In this example, the potential energy between two particles is compared to the analytical value."
   ]
  },
  {
   "cell_type": "code",
   "execution_count": 1,
   "id": "split-sculpture",
   "metadata": {},
   "outputs": [
    {
     "name": "stderr",
     "output_type": "stream",
     "text": [
      "test_two_particle (__main__.TestMonteCarloLJRef)\n",
      "Test the LJ potential against analytical calculation of two particles ... ok\n",
      "\n",
      "----------------------------------------------------------------------\n",
      "Ran 1 test in 0.008s\n",
      "\n",
      "OK\n"
     ]
    },
    {
     "data": {
      "text/plain": [
       "<unittest.main.TestProgram at 0x7f9e37043cd0>"
      ]
     },
     "execution_count": 1,
     "metadata": {},
     "output_type": "execute_result"
    }
   ],
   "source": [
    "import math\n",
    "import sys\n",
    "import subprocess\n",
    "import unittest\n",
    "import pandas as pd\n",
    "\n",
    "# Run a feasst simulation with the given parameters\n",
    "def run_fst(params):\n",
    "    with open(\"launch.txt\", \"w\") as myfile: myfile.write(\"\"\"\n",
    "MonteCarlo\n",
    "Configuration {config_params}\n",
    "Potential Model LennardJonesAlpha alpha 12\n",
    "ThermoParams beta 1000000\n",
    "Metropolis\n",
    "Log output_file lj.csv max_precision true clear_file true\n",
    "Run num_trials 1\n",
    "\"\"\".format(**params))\n",
    "    syscode = subprocess.call(\"../../../build/bin/fst < launch.txt > launch.log\", shell=True, executable='/bin/bash')\n",
    "    if syscode > 0: sys.exit(1)\n",
    "\n",
    "class TestMonteCarloLJRef(unittest.TestCase):\n",
    "    def test_two_particle(self):\n",
    "        \"\"\"Test the LJ potential against analytical calculation of two particles\"\"\"\n",
    "        params = {\"displacement\": 1.2345}\n",
    "        with open(\"two.xyz\", \"w\") as myfile: myfile.write(\n",
    "\"\"\"2\n",
    "-1 8 8 8\n",
    "0 0 0 0\n",
    "1 0 0 {displacement}\"\"\".format(**params))\n",
    "        run_fst({\"config_params\": \"particle_type0 /feasst/plugin/models/particle/ljdelta.fstprt xyz_file two.xyz delta_sigma 0.5\"})\n",
    "        df = pd.read_csv('lj.csv')\n",
    "        self.assertEqual(2, df['num_particles_of_type0'][0])\n",
    "\n",
    "        # compute the expected analytical LJ energy\n",
    "        enlj = 4*((params[\"displacement\"]+0.5)**(-24) - (params[\"displacement\"]+0.5)**(-12))\n",
    "\n",
    "        # Compare the analytical results with the FEASST computed energies.\n",
    "        self.assertAlmostEqual(enlj, df['LennardJonesAlpha'][0], 12)\n",
    "        self.assertAlmostEqual(enlj, df['energy'][0], 12)\n",
    "\n",
    "unittest.main(argv=[''], verbosity=2, exit=False)\n",
    "\n"
   ]
  },
  {
   "cell_type": "markdown",
   "id": "numeric-tattoo",
   "metadata": {},
   "source": [
    "Did this tutorial work as expected? Did you find any inconsistencies or have any comments? Please [contact](../../../CONTACT.rst) us. Any feedback is appreciated!"
   ]
  }
 ],
 "metadata": {
  "kernelspec": {
   "display_name": "Python 3 (ipykernel)",
   "language": "python",
   "name": "python3"
  },
  "language_info": {
   "codemirror_mode": {
    "name": "ipython",
    "version": 3
   },
   "file_extension": ".py",
   "mimetype": "text/x-python",
   "name": "python",
   "nbconvert_exporter": "python",
   "pygments_lexer": "ipython3",
   "version": "3.10.12"
  }
 },
 "nbformat": 4,
 "nbformat_minor": 5
}
