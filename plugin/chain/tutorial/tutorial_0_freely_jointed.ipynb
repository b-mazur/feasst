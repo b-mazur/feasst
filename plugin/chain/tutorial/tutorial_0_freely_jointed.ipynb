{
 "cells": [
  {
   "cell_type": "markdown",
   "id": "agricultural-poultry",
   "metadata": {},
   "source": [
    "# Simulation of a single freely-jointed chain"
   ]
  },
  {
   "cell_type": "code",
   "execution_count": 1,
   "id": "photographic-small",
   "metadata": {},
   "outputs": [
    {
     "name": "stdout",
     "output_type": "stream",
     "text": [
      "v0.18.1-61-gca844632f9-hwh/txtin_factory\n"
     ]
    }
   ],
   "source": [
    "import unittest\n",
    "import gen_chain\n",
    "import math\n",
    "import feasst as fst\n",
    "print(fst.version())\n",
    "\n",
    "def end_to_end_distance(mc):\n",
    "    config = mc.system().configuration()\n",
    "    pos = config.particle(0).site(0).position()\n",
    "    return pos.distance(config.particle(0).site(config.particle(0).num_sites() - 1).position())\n",
    "\n",
    "def radius_of_gyration(mc):\n",
    "    config = mc.system().configuration()\n",
    "    r_cm = fst.Position(config.dimension())\n",
    "    n = config.particle(0).num_sites()\n",
    "    for i in range(n):\n",
    "        r_cm.add(config.particle(0).site(i).position())\n",
    "    r_cm.divide(n)\n",
    "    rg = 0\n",
    "    for i in range(n):\n",
    "        rg += config.particle(0).site(i).position().squared_distance(r_cm)\n",
    "    return rg/n\n",
    "        \n",
    "class TestFreelyJointedIdealChain(unittest.TestCase):\n",
    "    def test(self):\n",
    "        n=10000\n",
    "        gen_chain.linear_single_site(n, \"chain.fstprt.swp\")\n",
    "        mc = fst.MonteCarlo()\n",
    "        mc.set(fst.MakeRandomMT19937(fst.args({\"seed\": \"time\"})))\n",
    "        mc.add(fst.MakeConfiguration(fst.args({\"cubic_box_length\": str(3*n),\n",
    "                                               \"particle_type\": \"chain.fstprt.swp\"})))\n",
    "        mc.add(fst.MakePotential(fst.DontVisitModel()))\n",
    "        mc.set(fst.MakeThermoParams(fst.args({\"beta\": \"1\", \"chemical_potential0\": \"1\"})))\n",
    "        mc.set(fst.MakeMetropolis())\n",
    "        mc.add(fst.MakeTrialAdd(fst.args({\"particle_type\": \"0\"})))\n",
    "        mc.run(fst.MakeRun(fst.args({\"until_num_particles\": \"1\"})))\n",
    "        mc.run(fst.MakeRemoveTrial(fst.args({\"name\": \"TrialAdd\"})))\n",
    "        mc.add(fst.MakeTrialGrowLinear(fst.MakeTrialComputeMove(), fst.args({\"particle_type\": \"0\"})))\n",
    "        trials_per = str(int(1))\n",
    "        mc.add(fst.MakeLogAndMovie(fst.args({\"trials_per\": trials_per, \"file_name\": \"chain\"})))\n",
    "        end_to_end = fst.Accumulator()\n",
    "        rg2 = fst.Accumulator()\n",
    "        for i in range(int(1e2)):\n",
    "            mc.attempt()\n",
    "            end_to_end.accumulate(end_to_end_distance(mc))\n",
    "            rg2.accumulate(radius_of_gyration(mc))\n",
    "        print(end_to_end.str())\n",
    "        print(rg2.str())\n",
    "        self.assertAlmostEqual(end_to_end.average(), math.sqrt(n), delta=20)\n",
    "        self.assertAlmostEqual(rg2.average(), n/6, delta=200)"
   ]
  },
  {
   "cell_type": "code",
   "execution_count": 2,
   "id": "sublime-extent",
   "metadata": {},
   "outputs": [
    {
     "name": "stderr",
     "output_type": "stream",
     "text": [
      "test (__main__.TestFreelyJointedIdealChain) ... "
     ]
    },
    {
     "name": "stdout",
     "output_type": "stream",
     "text": [
      "average,stdev,block_stdev,moment0,moment1,moment2,moment3,moment4,\n",
      "90.492093572361313,31.173734148581158,2.8803337571546459,100,9049.2093572361311,915090.26828677467,100414421.85897647,11734029007.253723,\n",
      "average,stdev,block_stdev,moment0,moment1,moment2,moment3,moment4,\n",
      "1523.4265875701569,623.06752806922407,63.551822437399622,100,152342.6587570157,270515958.08046037,548910207608.49733,1249557444855249.1,\n"
     ]
    },
    {
     "name": "stderr",
     "output_type": "stream",
     "text": [
      "ok\n",
      "\n",
      "----------------------------------------------------------------------\n",
      "Ran 1 test in 19.038s\n",
      "\n",
      "OK\n"
     ]
    },
    {
     "data": {
      "text/plain": [
       "<unittest.main.TestProgram at 0x7fb7d5495a60>"
      ]
     },
     "execution_count": 2,
     "metadata": {},
     "output_type": "execute_result"
    }
   ],
   "source": [
    "unittest.main(argv=[''], verbosity=2, exit=False)"
   ]
  },
  {
   "cell_type": "markdown",
   "id": "postal-valentine",
   "metadata": {},
   "source": [
    "Did this tutorial work as expected? Did you find any inconsistencies or have any comments? Please [contact](../../../CONTACT.rst) us. Any feedback is appreciated!"
   ]
  }
 ],
 "metadata": {
  "kernelspec": {
   "display_name": "Python 3",
   "language": "python",
   "name": "python3"
  },
  "language_info": {
   "codemirror_mode": {
    "name": "ipython",
    "version": 3
   },
   "file_extension": ".py",
   "mimetype": "text/x-python",
   "name": "python",
   "nbconvert_exporter": "python",
   "pygments_lexer": "ipython3",
   "version": "3.8.10"
  }
 },
 "nbformat": 4,
 "nbformat_minor": 5
}
