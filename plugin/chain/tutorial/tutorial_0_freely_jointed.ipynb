{
 "cells": [
  {
   "cell_type": "markdown",
   "id": "agricultural-poultry",
   "metadata": {},
   "source": [
    "# Simulation of a single freely-jointed chain"
   ]
  },
  {
   "cell_type": "code",
   "execution_count": 1,
   "id": "photographic-small",
   "metadata": {},
   "outputs": [
    {
     "name": "stdout",
     "output_type": "stream",
     "text": [
      "# FEASST version: v0.23.1-15-ge93bcbbef8-hwh/232\n",
      "MonteCarlo\n",
      "Configuration cubic_side_length 30000 particle_type0 chain.fstprt.swp  \n",
      "Potential Model IdealGas  \n",
      "ThermoParams beta 1 chemical_potential0 1  \n",
      "Metropolis  \n",
      "TrialAdd particle_type 0  \n",
      "Run until_num_particles 1  \n",
      "# initializing random number generator with seed: 1697650376\n",
      "RemoveTrial name TrialAdd  \n",
      "TrialGrowFile file_name grow_chain.fstprt.swp  \n",
      "Log file_name chain.txt trials_per_write 1  \n",
      "Movie file_name chain.xyz trials_per_write 1  \n",
      "EndToEndDistance file_name end_to_end.txt  \n",
      "RadiusOfGyration file_name rg.txt  \n",
      "Run num_trials 1e2  \n",
      " \n",
      " exit: 0\n"
     ]
    }
   ],
   "source": [
    "import unittest\n",
    "import math\n",
    "import pandas as pd\n",
    "\n",
    "params = {\"num_monomers\": 10000}\n",
    "params[\"length\"] = 3*params[\"num_monomers\"]\n",
    "\n",
    "script=\"\"\"\n",
    "MonteCarlo\n",
    "Configuration cubic_side_length {length} particle_type0 chain.fstprt.swp\n",
    "Potential Model IdealGas\n",
    "ThermoParams beta 1 chemical_potential0 1\n",
    "Metropolis\n",
    "TrialAdd particle_type 0\n",
    "Run until_num_particles 1\n",
    "RemoveTrial name TrialAdd\n",
    "TrialGrowFile file_name grow_chain.fstprt.swp\n",
    "set_variable trials_per 1\n",
    "Log trials_per_write trials_per file_name chain.txt\n",
    "Movie trials_per_write trials_per file_name chain.xyz\n",
    "EndToEndDistance file_name end_to_end.txt\n",
    "RadiusOfGyration file_name rg.txt\n",
    "Run num_trials 1e2\n",
    "\"\"\".format(**params)\n",
    "\n",
    "def linear_single_site(n, filename):\n",
    "    # write fstprt file\n",
    "    with open (filename, \"w\") as f:\n",
    "        f.write(\n",
    "\"# LAMMPS-inspired data file\\n\\n\" + \\\n",
    "str(n) + \" sites\\n\" + \\\n",
    "str(n-1) + \" bonds\\n\\\n",
    "\\n\\\n",
    "1 site types\\n\\\n",
    "1 bond types\\n\\\n",
    "\\n\\\n",
    "Site Properties\\n\\\n",
    "\\n\\\n",
    "0 epsilon 1 sigma 1.0 cutoff 3.0\\n\\\n",
    "\\n\\\n",
    "Bond Properties\\n\\\n",
    "\\n\\\n",
    "0 RigidBond length 1.0 delta 0.00001\\n\\\n",
    "\\n\\\n",
    "Sites\\n\\\n",
    "\\n\\\n",
    "\")\n",
    "\n",
    "        for i in range(n):\n",
    "            f.write(str(i) + \" 0 \" + str(i) + \".0 0.0 0.0\\n\")\n",
    "        f.write(\"\\nBonds\\n\\n\")\n",
    "        for i in range(n - 1):\n",
    "            f.write(str(i) + \" 0 \" + str(i) + \" \" + str(i + 1) + \"\\n\")\n",
    "        f.write(\"\\n\")\n",
    "\n",
    "    # write TrialGrowFile\n",
    "    with open('grow_' + filename, 'w') as f:\n",
    "        f.write(\"TrialGrowFile\\n\\nparticle_type 0 regrow true site 0\\n\")\n",
    "        for i in range(1, n):\n",
    "            f.write(\"bond true mobile_site \"+str(i)+\" anchor_site \"+str(i-1)+\"\\n\")\n",
    "\n",
    "linear_single_site(params[\"num_monomers\"], \"chain.fstprt.swp\")\n",
    "\n",
    "with open('script.txt', 'w') as file: file.write(script)\n",
    "import subprocess\n",
    "syscode = subprocess.call(\"../../../build/bin/fst < script.txt > script.log\", shell=True, executable='/bin/bash')\n",
    "with open('script.log', 'r') as file: print(file.read(), '\\n', 'exit:', syscode)"
   ]
  },
  {
   "cell_type": "code",
   "execution_count": 2,
   "id": "sublime-extent",
   "metadata": {},
   "outputs": [
    {
     "name": "stderr",
     "output_type": "stream",
     "text": [
      "test (__main__.TestFreelyJointedIdealChain) ... ok\n",
      "\n",
      "----------------------------------------------------------------------\n",
      "Ran 1 test in 0.003s\n",
      "\n",
      "OK\n"
     ]
    },
    {
     "data": {
      "text/plain": [
       "<unittest.main.TestProgram at 0x7ff625a81960>"
      ]
     },
     "execution_count": 2,
     "metadata": {},
     "output_type": "execute_result"
    }
   ],
   "source": [
    "class TestFreelyJointedIdealChain(unittest.TestCase):\n",
    "    def test(self):\n",
    "        end_to_end=pd.read_csv('end_to_end.txt')\n",
    "        self.assertAlmostEqual(end_to_end['average'][0], math.sqrt(params['num_monomers']), delta=20)\n",
    "        rg=pd.read_csv('rg.txt')\n",
    "        self.assertAlmostEqual(rg['average'][0], params['num_monomers']/6, delta=200)\n",
    "unittest.main(argv=[''], verbosity=2, exit=False)"
   ]
  },
  {
   "cell_type": "markdown",
   "id": "postal-valentine",
   "metadata": {},
   "source": [
    "Did this tutorial work as expected? Did you find any inconsistencies or have any comments? Please [contact](../../../CONTACT.rst) us. Any feedback is appreciated!"
   ]
  }
 ],
 "metadata": {
  "kernelspec": {
   "display_name": "Python 3 (ipykernel)",
   "language": "python",
   "name": "python3"
  },
  "language_info": {
   "codemirror_mode": {
    "name": "ipython",
    "version": 3
   },
   "file_extension": ".py",
   "mimetype": "text/x-python",
   "name": "python",
   "nbconvert_exporter": "python",
   "pygments_lexer": "ipython3",
   "version": "3.10.12"
  }
 },
 "nbformat": 4,
 "nbformat_minor": 5
}
