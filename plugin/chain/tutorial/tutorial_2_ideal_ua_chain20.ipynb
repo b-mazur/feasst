{
 "cells": [
  {
   "cell_type": "markdown",
   "id": "appointed-morgan",
   "metadata": {},
   "source": [
    "# Simulation of a single 20-bead linear chain"
   ]
  },
  {
   "cell_type": "code",
   "execution_count": 2,
   "id": "dynamic-alexander",
   "metadata": {},
   "outputs": [
    {
     "name": "stdout",
     "output_type": "stream",
     "text": [
      "v0.18.1-61-gca844632f9-hwh/txtin_factory\n",
      "Potential energy of initial configuration: -2.022678100397566\n",
      "end to end 12.767145334803702\n",
      "average,stdev,block_stdev,moment0,moment1,moment2,moment3,moment4,\n",
      "2.9101307491409747,1.0772850857103031,0.056074188907484161,100000,291013.07491409747,962939.25275581061,3533838.6102219024,14138621.456323513,\n"
     ]
    }
   ],
   "source": [
    "import copy\n",
    "import feasst as fst\n",
    "print(fst.version())\n",
    "\n",
    "def end_to_end_distance(mc):\n",
    "    config = mc.system().configuration()\n",
    "    pos = config.particle(0).site(0).position()\n",
    "    return pos.distance(config.particle(0).site(config.particle(0).num_sites() - 1).position())\n",
    "\n",
    "mc = fst.MonteCarlo()\n",
    "mc.set(fst.MakeRandomMT19937(fst.args({\"seed\": \"time\"})))\n",
    "mc.add(fst.MakeConfiguration(fst.args({\"cubic_box_length\": \"30\",\n",
    "    \"particle_type\": fst.install_dir() + \"/plugin/chain/forcefield/chain20.fstprt\"})))\n",
    "mc.add(fst.MakePotential(fst.MakeLennardJones(),\n",
    "                         fst.MakeVisitModelIntra(fst.args({\"cutoff\": \"1\"}))))\n",
    "mc.set(fst.MakeThermoParams(fst.args({\"beta\": \"1\", \"chemical_potential0\": \"1\"})))\n",
    "mc.set(fst.MakeMetropolis())\n",
    "mc.add(fst.MakeTrialAdd(fst.args({\"particle_type\": \"0\"})))\n",
    "mc.run(fst.MakeRun(fst.args({\"until_num_particles\": \"1\"})))\n",
    "mc.run(fst.MakeRemoveTrial(fst.args({\"name\": \"TrialAdd\"})))\n",
    "mc.add(fst.MakeTrialPivot(fst.args({\"weight\": \"1\", \"tunable_param\": \"20\", \"max_length\": \"8\"})))\n",
    "mc.add(fst.MakeTrialCrankshaft(fst.args({\"weight\": \"1\", \"tunable_param\": \"20\", \"max_length\": \"8\"})))\n",
    "#mc.add(fst.MakeTrialReptate(fst.args({\"weight\": \"1\", \"max_length\": \"1\", \"particle_type\": \"0\"})))\n",
    "unit_grows = list()\n",
    "grows=list()\n",
    "length=mc.configuration().num_sites()\n",
    "max_length=19\n",
    "for i in range(max_length):\n",
    "     unit_grows.append([{\"bond\": \"true\", \"mobile_site\": str(i), \"anchor_site\": str(i+1), \"num_steps\": \"4\"}])\n",
    "     if i == 0:\n",
    "         grows.append(unit_grows[-1])\n",
    "     else:\n",
    "         grows.append(unit_grows[-1] + copy.deepcopy(grows[-1]))\n",
    "unit_grows = list()\n",
    "for i in range(max_length):\n",
    "    unit_grows.append([{\"bond\": \"true\", \"mobile_site\": str(length-i-1), \"anchor_site\": str(length-i-2)}])\n",
    "    if i == 0:\n",
    "        grows.append(unit_grows[-1])\n",
    "    else:\n",
    "        grows.append(unit_grows[-1] + copy.deepcopy(grows[-1]))\n",
    "for grow in grows:\n",
    "    grow[0][\"weight\"] = str(1./len(grow))\n",
    "    grow[0][\"particle_type\"] = \"0\"\n",
    "    mc.add(fst.MakeTrialGrow(fst.ArgsVector(grow)))\n",
    "trials_per = str(int(1e4))\n",
    "mc.add(fst.MakeLogAndMovie(fst.args({\"trials_per\": trials_per, \"file_name\": \"chain\"})))\n",
    "mc.add(fst.MakeCheckEnergy(fst.args({\"trials_per\": trials_per, \"tolerance\": str(1e-10)})))\n",
    "mc.add(fst.MakeTune())\n",
    "print('Potential energy of initial configuration:', mc.criteria().current_energy())\n",
    "rg_sq = fst.Accumulator()\n",
    "print('end to end', end_to_end_distance(mc))\n",
    "mc.attempt(int(1e3)) # equilibrate\n",
    "for n in range(int(1e5)):\n",
    "    mc.attempt()\n",
    "    rg_sq.accumulate(end_to_end_distance(mc))\n",
    "\n",
    "print(rg_sq.str())"
   ]
  },
  {
   "cell_type": "markdown",
   "id": "logical-dominant",
   "metadata": {},
   "source": [
    "Did this tutorial work as expected? Did you find any inconsistencies or have any comments? Please [contact](../../../CONTACT.rst) us. Any feedback is appreciated!"
   ]
  }
 ],
 "metadata": {
  "kernelspec": {
   "display_name": "Python 3",
   "language": "python",
   "name": "python3"
  },
  "language_info": {
   "codemirror_mode": {
    "name": "ipython",
    "version": 3
   },
   "file_extension": ".py",
   "mimetype": "text/x-python",
   "name": "python",
   "nbconvert_exporter": "python",
   "pygments_lexer": "ipython3",
   "version": "3.8.10"
  }
 },
 "nbformat": 4,
 "nbformat_minor": 5
}
