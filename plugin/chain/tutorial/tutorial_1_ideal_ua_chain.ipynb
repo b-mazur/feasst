{
 "cells": [
  {
   "cell_type": "markdown",
   "id": "greatest-sullivan",
   "metadata": {},
   "source": [
    "# Simulation of a single chain"
   ]
  },
  {
   "cell_type": "code",
   "execution_count": 1,
   "id": "dynamic-alexander",
   "metadata": {},
   "outputs": [
    {
     "name": "stdout",
     "output_type": "stream",
     "text": [
      "# FEASST version: v0.21-21-g12898a9d3b-dirty-user/trial_library\n",
      "Configuration cubic_side_length 40 cutoff 20 particle_type0 /home/user/feasst/plugin/chain/particle/chain5.fstprt periodic0 false periodic1 false periodic2 false  \n",
      "Potential Model LennardJones VisitModel VisitModelIntra intra_cut 1  \n",
      "ThermoParams beta 1 chemical_potential0 1  \n",
      "Metropolis  \n",
      "TrialAdd particle_type 0  \n",
      "Run until_num_particles 1  \n",
      "# initializing random number generator with seed: 1678982382\n",
      "RemoveTrial name TrialAdd  \n",
      "TrialGrowFile file_name grow_chain5.txt  \n",
      "Log file_name chain.txt trials_per_write 1e4  \n",
      "Movie file_name chain.xyz trials_per_write 1e4  \n",
      "CheckEnergy tolerance 1e-10 trials_per_update 1e4  \n",
      "Tune  \n",
      "Run num_trials 1e3  \n",
      "Energy file_name chain_en.txt trials_per_write 1e4  \n",
      "RadiusOfGyration file_name rg.txt  \n",
      "Run num_trials 1e5  \n",
      " \n",
      " exit: 0\n"
     ]
    }
   ],
   "source": [
    "import unittest\n",
    "import math\n",
    "import pandas as pd\n",
    "\n",
    "script=\"\"\"\n",
    "MonteCarlo\n",
    "Configuration cubic_side_length 40 periodic0 false periodic1 false periodic2 false \\\n",
    "    cutoff 20 particle_type0 /feasst/plugin/chain/particle/chain5.fstprt\n",
    "Potential Model LennardJones VisitModel VisitModelIntra intra_cut 1\n",
    "ThermoParams beta 1 chemical_potential0 1\n",
    "Metropolis\n",
    "TrialAdd particle_type 0\n",
    "Run until_num_particles 1\n",
    "RemoveTrial name TrialAdd\n",
    "#TrialPivot weight 1 tunable_param 20\n",
    "#TrialCrankshaft weight 1 tunable_param 20\n",
    "TrialGrowFile file_name grow_chain5.txt\n",
    "set_variable trials_per 1e4\n",
    "Log trials_per_write trials_per file_name chain.txt\n",
    "Movie trials_per_write trials_per file_name chain.xyz\n",
    "CheckEnergy trials_per_update trials_per tolerance 1e-10\n",
    "Tune\n",
    "Run num_trials 1e3\n",
    "Energy trials_per_write trials_per file_name chain_en.txt\n",
    "RadiusOfGyration file_name rg.txt\n",
    "Run num_trials 1e5\n",
    "\"\"\"\n",
    "\n",
    "with open('grow_chain5.txt', 'w') as file: file.write(\n",
    "'TrialGrowFile\\n\\n\\\n",
    "particle_type 0 site 0 regrow true\\n\\\n",
    "bond true mobile_site 1 anchor_site 0\\n\\\n",
    "bond true mobile_site 2 anchor_site 1\\n\\\n",
    "bond true mobile_site 3 anchor_site 2\\n\\\n",
    "bond true mobile_site 4 anchor_site 3\\n')\n",
    "    \n",
    "with open('script.txt', 'w') as file: file.write(script)\n",
    "import subprocess\n",
    "syscode = subprocess.call(\"../../../build/bin/fst < script.txt > script.log\", shell=True, executable='/bin/bash')\n",
    "with open('script.log', 'r') as file: print(file.read(), '\\n', 'exit:', syscode)"
   ]
  },
  {
   "cell_type": "code",
   "execution_count": 2,
   "id": "super-messenger",
   "metadata": {},
   "outputs": [
    {
     "name": "stderr",
     "output_type": "stream",
     "text": [
      "test_rg_en (__main__.TestChain5RG) ... ok\n",
      "\n",
      "----------------------------------------------------------------------\n",
      "Ran 1 test in 0.003s\n",
      "\n",
      "OK\n"
     ]
    },
    {
     "data": {
      "text/plain": [
       "<unittest.main.TestProgram at 0x7fb6a7d3fc10>"
      ]
     },
     "execution_count": 2,
     "metadata": {},
     "output_type": "execute_result"
    }
   ],
   "source": [
    "class TestChain5RG(unittest.TestCase):\n",
    "    def test_rg_en(self):\n",
    "        rg=pd.read_csv('rg.txt')\n",
    "        self.assertAlmostEqual(0.8806, rg['average'][0], delta=3*(rg['block_stdev'][0]+0.))\n",
    "        en=pd.read_csv('chain_en.txt')\n",
    "        self.assertAlmostEqual(-2.050, en['average'][0], delta=3*(en['block_stdev'][0]+0.))\n",
    "unittest.main(argv=[''], verbosity=2, exit=False)"
   ]
  },
  {
   "cell_type": "markdown",
   "id": "ordinary-classics",
   "metadata": {},
   "source": [
    "Did this tutorial work as expected? Did you find any inconsistencies or have any comments? Please [contact](../../../CONTACT.rst) us. Any feedback is appreciated!"
   ]
  }
 ],
 "metadata": {
  "kernelspec": {
   "display_name": "Python 3 (ipykernel)",
   "language": "python",
   "name": "python3"
  },
  "language_info": {
   "codemirror_mode": {
    "name": "ipython",
    "version": 3
   },
   "file_extension": ".py",
   "mimetype": "text/x-python",
   "name": "python",
   "nbconvert_exporter": "python",
   "pygments_lexer": "ipython3",
   "version": "3.10.6"
  }
 },
 "nbformat": 4,
 "nbformat_minor": 5
}
