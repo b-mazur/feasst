{
 "cells": [
  {
   "cell_type": "markdown",
   "metadata": {},
   "source": [
    "# Block average analysis for correlated data\n",
    "\n",
    "In this example, a random walk is performed in one dimension with periodic boundaries.\n",
    "The step size is chosen randomly uniform in [-1, 1], and the repeating cell is 25.\n",
    "Use the blocking method (http://dx.doi.org/10.1063/1.457480) to find the standard deviation of the mean from uncorrelated data, and to estimate the correlation time (i.e., the number of steps until the particle could be anywhere in the repeating cell).\n",
    "\n",
    "For 1e6 steps, the error on the average position is about 0.08 with about 68% confidence, and a correlation time of roughly 2^11 steps correspoding with roughly (25/0.5)^2."
   ]
  },
  {
   "cell_type": "code",
   "execution_count": 6,
   "metadata": {},
   "outputs": [],
   "source": [
    "import unittest\n",
    "import feasst as fst\n",
    "\n",
    "class TestBlockAv(unittest.TestCase):\n",
    "    def test(self, pbc_length=25, step_size=1, num_steps=int(1e6)):\n",
    "        av_position = fst.MakeAccumulator(fst.args({\"max_block_operations\": \"20\"}))\n",
    "        av_position2 = fst.MakeAccumulator()\n",
    "        rng = fst.MakeRandomMT19937()\n",
    "        position = rng.uniform_real(-pbc_length/2, pbc_length/2)\n",
    "        for step in range(num_steps):\n",
    "            position += step_size*rng.uniform_real(-1, 1)\n",
    "            if position < -pbc_length/2:\n",
    "                position += pbc_length\n",
    "            elif position > pbc_length/2:\n",
    "                position -= pbc_length\n",
    "            av_position.accumulate(position)\n",
    "            av_position2.accumulate(position)\n",
    "        for op in range(av_position.max_block_operations()):\n",
    "            print(op, av_position.block_stdev(op))\n",
    "        self.assertAlmostEqual(av_position2.block_stdev(), 0.08, delta=0.05)\n",
    "            \n",
    "        "
   ]
  },
  {
   "cell_type": "markdown",
   "metadata": {},
   "source": [
    "Run the tests."
   ]
  },
  {
   "cell_type": "code",
   "execution_count": 7,
   "metadata": {},
   "outputs": [
    {
     "name": "stderr",
     "output_type": "stream",
     "text": [
      "test (__main__.TestBlockAv) ... "
     ]
    },
    {
     "name": "stdout",
     "output_type": "stream",
     "text": [
      "0 0.007238781090395475\n",
      "1 0.009938366458832426\n",
      "2 0.01369574098784891\n",
      "3 0.018803556782505806\n",
      "4 0.02556235262330736\n",
      "5 0.034206826191159716\n",
      "6 0.044640794340539275\n",
      "7 0.05637749798772618\n",
      "8 0.06655949625147244\n",
      "9 0.07343506780491323\n",
      "10 0.07698166109738189\n",
      "11 0.07860233781069917\n",
      "12 0.08191576015790028\n",
      "13 0.08328572894610582\n",
      "14 0.08253846353334518\n",
      "15 0.07150823096402974\n",
      "16 0.06180560019559975\n",
      "17 0.054061765376740345\n",
      "18 0.027105746508845847\n",
      "19 0.0\n"
     ]
    },
    {
     "name": "stderr",
     "output_type": "stream",
     "text": [
      "ok\n",
      "\n",
      "----------------------------------------------------------------------\n",
      "Ran 1 test in 2.208s\n",
      "\n",
      "OK\n"
     ]
    },
    {
     "data": {
      "text/plain": [
       "<unittest.main.TestProgram at 0x7f7d181d6520>"
      ]
     },
     "execution_count": 7,
     "metadata": {},
     "output_type": "execute_result"
    }
   ],
   "source": [
    "unittest.main(argv=[''], verbosity=2, exit=False)"
   ]
  },
  {
   "cell_type": "markdown",
   "metadata": {},
   "source": [
    "Did this tutorial work as expected? Did you find any inconsistencies or have any comments? Please [contact](../../../CONTACT.rst) us. Any feedback is appreciated!"
   ]
  }
 ],
 "metadata": {
  "kernelspec": {
   "display_name": "Python 3",
   "language": "python",
   "name": "python3"
  },
  "language_info": {
   "codemirror_mode": {
    "name": "ipython",
    "version": 3
   },
   "file_extension": ".py",
   "mimetype": "text/x-python",
   "name": "python",
   "nbconvert_exporter": "python",
   "pygments_lexer": "ipython3",
   "version": "3.8.10"
  }
 },
 "nbformat": 4,
 "nbformat_minor": 2
}
