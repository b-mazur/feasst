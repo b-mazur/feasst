{
 "cells": [
  {
   "cell_type": "markdown",
   "metadata": {},
   "source": [
    "# Expanded grand canonical ensemble transition-matrix Monte Carlo with RPM\n",
    "\n",
    "In this example, the RPM model is simulated with expanded grand canonical ensembles.\n",
    "See https://doi.org/10.1063/1.5123683 "
   ]
  },
  {
   "cell_type": "code",
   "execution_count": 4,
   "metadata": {
    "execution": {
     "iopub.execute_input": "2021-09-09T16:37:00.049077Z",
     "iopub.status.busy": "2021-09-09T16:37:00.048228Z",
     "iopub.status.idle": "2021-09-09T16:37:00.110821Z",
     "shell.execute_reply": "2021-09-09T16:37:00.111797Z"
    }
   },
   "outputs": [],
   "source": [
    "import math\n",
    "import unittest\n",
    "import feasst as fst\n",
    "\n",
    "def rpm_egce(proc='', macro_min=0, macro_max=4):\n",
    "    beta = 1./0.047899460618081\n",
    "    beta_mu = -13.94\n",
    "    trials_per = str(int(1e5))\n",
    "    monte_carlo = fst.MonteCarlo()\n",
    "    monte_carlo.add(fst.MakeConfiguration(fst.args({\"cubic_box_length\": \"12\",\n",
    "        \"particle_type0\": fst.install_dir() + \"/plugin/charge/forcefield/rpm_plus.fstprt\",\n",
    "        \"particle_type1\": fst.install_dir() + \"/plugin/charge/forcefield/rpm_minus.fstprt\",\n",
    "        \"cutoff\": \"4.891304347826090\",\n",
    "        \"charge0\": str( 1./math.sqrt(fst.CODATA2018().charge_conversion())),      \n",
    "        \"charge1\": str(-1./math.sqrt(fst.CODATA2018().charge_conversion()))})))\n",
    "    monte_carlo.add(fst.MakePotential(fst.MakeEwald(fst.args({\"alpha\": str(6.87098396396261/12),\n",
    "        \"kmax_squared\": \"38\"}))))\n",
    "    monte_carlo.add(fst.MakePotential(fst.MakeModelTwoBodyFactory(fst.MakeHardSphere(), fst.MakeChargeScreened()),\n",
    "                                      fst.args({\"table_size\": \"1e6\"})))\n",
    "    monte_carlo.add(fst.MakePotential(fst.MakeChargeSelf()))\n",
    "    monte_carlo.set(fst.MakeThermoParams(fst.args({\"beta\": str(beta),\n",
    "                  \"chemical_potential0\": str(beta_mu/beta),\n",
    "                  \"chemical_potential1\": str(beta_mu/beta)})))\n",
    "    monte_carlo.set(fst.MakeFlatHistogram(\n",
    "        fst.MakeMacrostateNumParticles(\n",
    "            fst.Histogram(fst.args({\"width\": \"1\", \"max\": str(macro_max), \"min\": str(macro_min)}))),\n",
    "        fst.MakeTransitionMatrix(fst.args({\"min_sweeps\": \"10\"})),\n",
    "        fst.MakeAEqualB(fst.args({\"extra_A\": \"1\"}))))\n",
    "    monte_carlo.add(fst.MakeTrialTranslate(fst.args({\"weight\": \"0.25\", \"tunable_param\": \"0.1\"})))\n",
    "    monte_carlo.add(fst.MakeTrialTransfer(fst.args({\"weight\": \"1\", \"particle_type\": \"0\"})))\n",
    "    monte_carlo.add(fst.MakeTrialTransfer(fst.args({\"weight\": \"1\", \"particle_type\": \"1\"})))\n",
    "    monte_carlo.add(fst.MakeCriteriaUpdater(fst.args({\"trials_per\": trials_per})))\n",
    "    monte_carlo.add(fst.MakeCriteriaWriter(fst.args({\"trials_per\": trials_per, \"file_name\": \"crit\" + proc + \".txt\"})))\n",
    "    monte_carlo.add(fst.MakeLogAndMovie(fst.args({\"file_name\": \"rpm\" + proc, \"trials_per\": trials_per})))\n",
    "    monte_carlo.add(fst.MakeCheckEnergyAndTune(fst.args({\"trials_per\": trials_per})))\n",
    "    energy = fst.MakeEnergy(fst.args({\"file_name\": \"rpm_fh_energy\" + proc,\n",
    "                                      \"trials_per_update\": \"1\",\n",
    "                                      \"trials_per_write\": trials_per,\n",
    "                                      \"multistate\": \"true\"}))\n",
    "    monte_carlo.add(energy)\n",
    "    return monte_carlo\n",
    "        \n",
    "class TestEGCERPM(unittest.TestCase):\n",
    "    \"\"\"Test flat histogram grand canonical ensemble Monte Carlo simulations\"\"\"\n",
    "    def test_serial_4max(self):\n",
    "        \"\"\"Compare the free energies and potential energies with the previously\n",
    "        published values: https://doi.org/10.1063/1.5123683\n",
    "        \"\"\"\n",
    "        monte_carlo=rpm_egce(macro_min=0, macro_max=4)\n",
    "        monte_carlo.run_until_complete()\n",
    "        \n",
    "        lnpi_previous = [\n",
    "            [-1.2994315780357, 0.07],\n",
    "            [-1.08646312498868, 0.05],\n",
    "            [-0.941850889679828, 0.05]]\n",
    "        energy_previous = [\n",
    "            [0, 1e-14],\n",
    "            [-0.115474, 1e-6],\n",
    "            [-0.939408, 0.02],\n",
    "            [-1.32485, 0.03],\n",
    "            [-2.02625, 0.04]]\n",
    "        \n",
    "        # reduce the lnpi by skipping every other macrostate (when A = B + 1)\n",
    "        fh = fst.FlatHistogram(monte_carlo.criteria())\n",
    "        lnpi5 = fh.bias().ln_prob()\n",
    "        lnpi3 = lnpi5.reduce(2)\n",
    "        \n",
    "        for macro in range(lnpi3.size()):\n",
    "            self.assertAlmostEqual(\n",
    "                lnpi_previous[macro][0],\n",
    "                lnpi3.value(macro),\n",
    "                delta=5.*lnpi_previous[macro][1])\n",
    "\n",
    "        for macro in range(fh.num_states()):\n",
    "            energy_analyzer = monte_carlo.analyze(monte_carlo.num_analyzers() - 1)\n",
    "            energy_accumulator = energy_analyzer.analyze(macro).accumulator()\n",
    "            stdev = (energy_previous[macro][1]**2 + energy_accumulator.block_stdev()**2)**(1./2.)\n",
    "            self.assertAlmostEqual(\n",
    "                energy_previous[macro][0],\n",
    "                energy_accumulator.average(),\n",
    "                delta=10*stdev)\n",
    "\n",
    "    def test_parallel(self):\n",
    "        windows=fst.WindowExponential(fst.args({\n",
    "            \"alpha\": \"2\",\n",
    "            \"num\": \"4\",\n",
    "            \"maximum\": \"650\",\n",
    "            \"extra_overlap\": \"2\"})).boundaries()\n",
    "        #windows=[[0,3],[1,16],[14,25]]\n",
    "        print(windows)\n",
    "\n",
    "        clones = fst.Clones()\n",
    "        for proc, win in enumerate(windows):\n",
    "            clones.add(rpm_egce(macro_min=win[0], macro_max=win[1], proc=str(proc)))\n",
    "        clones.initialize_and_run_until_complete()\n",
    "        print(clones.ln_prob().values())"
   ]
  },
  {
   "cell_type": "code",
   "execution_count": 5,
   "metadata": {
    "execution": {
     "iopub.execute_input": "2021-09-09T16:37:00.116643Z",
     "iopub.status.busy": "2021-09-09T16:37:00.115366Z",
     "iopub.status.idle": "2021-09-09T16:37:30.036582Z",
     "shell.execute_reply": "2021-09-09T16:37:30.037706Z"
    }
   },
   "outputs": [
    {
     "name": "stderr",
     "output_type": "stream",
     "text": [
      "."
     ]
    },
    {
     "name": "stdout",
     "output_type": "stream",
     "text": [
      "CPU times: user 2 µs, sys: 0 ns, total: 2 µs\n",
      "Wall time: 3.81 µs\n"
     ]
    },
    {
     "name": "stderr",
     "output_type": "stream",
     "text": [
      "\n",
      "----------------------------------------------------------------------\n",
      "Ran 1 test in 18.294s\n",
      "\n",
      "OK\n"
     ]
    },
    {
     "data": {
      "text/plain": [
       "<unittest.runner.TextTestResult run=1 errors=0 failures=0>"
      ]
     },
     "execution_count": 5,
     "metadata": {},
     "output_type": "execute_result"
    }
   ],
   "source": [
    "%time\n",
    "\n",
    "def suite():\n",
    "    suite = unittest.TestSuite()\n",
    "    suite.addTest(TestEGCERPM('test_serial_4max'))\n",
    "    # suite.addTest(TestEGCERPM('test_parallel'))\n",
    "    return suite\n",
    "\n",
    "runner = unittest.TextTestRunner()\n",
    "runner.run(suite())\n",
    "#unittest.main(argv=[''], verbosity=2, exit=False)"
   ]
  },
  {
   "cell_type": "markdown",
   "metadata": {},
   "source": [
    "Did this tutorial work as expected? Did you find any inconsistencies or have any comments? Please [contact](../../../CONTACT.rst) us. Any feedback is appreciated!"
   ]
  }
 ],
 "metadata": {
  "kernelspec": {
   "display_name": "Python 3",
   "language": "python",
   "name": "python3"
  },
  "language_info": {
   "codemirror_mode": {
    "name": "ipython",
    "version": 3
   },
   "file_extension": ".py",
   "mimetype": "text/x-python",
   "name": "python",
   "nbconvert_exporter": "python",
   "pygments_lexer": "ipython3",
   "version": "3.8.10"
  }
 },
 "nbformat": 4,
 "nbformat_minor": 2
}
