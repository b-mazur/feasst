{
 "cells": [
  {
   "cell_type": "markdown",
   "metadata": {},
   "source": [
    "# Monte Carlo with rigid cluster moves\n",
    "\n",
    "\n",
    "In this example, a low density and low temperature simulation of Lennard-Jones particles is conducted with and without rigid cluster moves and with and without single particle translations.\n",
    "A droplet is expected to form at these conditions.\n",
    "Without cluster moves, this droplet is unable to translate and rotate freely once it is formed.\n",
    "Single particle translations are still important.\n",
    "In order to obey detailed balance with rigid cluster moves, clusters cannot be created or destroyed.\n",
    "Thus, single particle translations are still required to form a droplet.\n",
    "Without single particle translations, particle randomly dispersed will not be allowed to coalesce.\n",
    "\n",
    "The three possible combinations are listed as follows:\n",
    "- sim 1 - single particle translations only\n",
    "- sim 2 - rigid cluster moves only\n",
    "- sim 3 - both"
   ]
  },
  {
   "cell_type": "code",
   "execution_count": 1,
   "metadata": {},
   "outputs": [
    {
     "name": "stdout",
     "output_type": "stream",
     "text": [
      "# FEASST version: v0.19.0-89-g45f2e404ac-dirty-hwh/newtutorials\n",
      "Configuration cubic_box_length 8 particle_type0 /home/hwh/feasst/forcefield/lj.fstprt  \n",
      "Potential Model LennardJones  \n",
      "ThermoParams beta 4 chemical_potential0 1  \n",
      "Metropolis  \n",
      "TrialTranslate tunable_param 2 tunable_target_acceptance 0.2  \n",
      "TrialAdd particle_type 0  \n",
      "Run until_num_particles 25  \n",
      "# initializing random number generator with seed: 1653412556\n",
      "RemoveTrial name TrialAdd  \n",
      "Tune  \n",
      "Log file_name log1.txt trials_per 1e3  \n",
      "CPUTime file_name cpu1.txt trials_per 1e3  \n",
      "Movie clear_file True file_name movie1.xyz trials_per 1e3  \n",
      "CheckEnergy tolerance 1e-8 trials_per 1e3  \n",
      "AnalyzeCluster file_name cluster1.txt trials_per_write 1e3  \n",
      "Run num_trials 1e5  \n",
      " \n",
      " exit: 0\n",
      "# FEASST version: v0.19.0-89-g45f2e404ac-dirty-hwh/newtutorials\n",
      "Configuration cubic_box_length 8 particle_type0 /home/hwh/feasst/forcefield/lj.fstprt  \n",
      "Potential EnergyMap EnergyMapAll Model LennardJones  \n",
      "ThermoParams beta 4 chemical_potential0 1  \n",
      "Metropolis  \n",
      "TrialAdd particle_type 0  \n",
      "Run until_num_particles 25  \n",
      "# initializing random number generator with seed: 1653412557\n",
      "RemoveTrial name TrialAdd  \n",
      "NeighborCriteria energy_maximum -0.5  \n",
      "TrialRigidCluster neighbor_index 0  \n",
      "Tune  \n",
      "Log file_name log2.txt trials_per 1e3  \n",
      "CPUTime file_name cpu2.txt trials_per 1e3  \n",
      "Movie clear_file True file_name movie2.xyz trials_per 1e3  \n",
      "CheckEnergy tolerance 1e-8 trials_per 1e3  \n",
      "AnalyzeCluster file_name cluster2.txt trials_per_write 1e3  \n",
      "Run num_trials 1e5  \n",
      " \n",
      " exit: 0\n",
      "# FEASST version: v0.19.0-89-g45f2e404ac-dirty-hwh/newtutorials\n",
      "Configuration cubic_box_length 8 particle_type0 /home/hwh/feasst/forcefield/lj.fstprt  \n",
      "Potential EnergyMap EnergyMapAll Model LennardJones  \n",
      "ThermoParams beta 4 chemical_potential0 1  \n",
      "Metropolis  \n",
      "TrialTranslate tunable_param 2 tunable_target_acceptance 0.2  \n",
      "TrialAdd particle_type 0  \n",
      "Run until_num_particles 25  \n",
      "# initializing random number generator with seed: 1653412558\n",
      "RemoveTrial name TrialAdd  \n",
      "NeighborCriteria energy_maximum -0.5  \n",
      "TrialRigidCluster neighbor_index 0  \n",
      "Tune  \n",
      "Log file_name log3.txt trials_per 1e3  \n",
      "CPUTime file_name cpu3.txt trials_per 1e3  \n",
      "Movie clear_file True file_name movie3.xyz trials_per 1e3  \n",
      "CheckEnergy tolerance 1e-8 trials_per 1e3  \n",
      "AnalyzeCluster file_name cluster3.txt trials_per_write 1e3  \n",
      "Run num_trials 1e5  \n",
      " \n",
      " exit: 0\n"
     ]
    }
   ],
   "source": [
    "for sim in [1, 2, 3]: # see combinations described above\n",
    "    params={\"sim\": sim,\n",
    "            \"potential\": \"Potential Model LennardJones\",\n",
    "            \"translate\": \"TrialTranslate tunable_param 2 tunable_target_acceptance 0.2\",\n",
    "            \"rigid\": \"\"}\n",
    "    if sim != 1:\n",
    "        params[\"potential\"]=\"Potential Model LennardJones EnergyMap EnergyMapAll\"\n",
    "    if sim == 2:\n",
    "        params[\"translate\"]=\"\"\n",
    "    if sim == 2 or sim == 3:\n",
    "        params[\"rigid\"] = \"\"\"\n",
    "NeighborCriteria energy_maximum -0.5\n",
    "TrialRigidCluster neighbor_index 0\"\"\"\n",
    "    script=\"\"\"\n",
    "MonteCarlo\n",
    "Configuration cubic_box_length 8 particle_type0 /feasst/forcefield/lj.fstprt\n",
    "{potential}\n",
    "ThermoParams beta 4 chemical_potential0 1\n",
    "Metropolis\n",
    "{translate}\n",
    "TrialAdd particle_type 0\n",
    "Run until_num_particles 25\n",
    "RemoveTrial name TrialAdd\n",
    "{rigid}\n",
    "set_variable trials_per 1e3\n",
    "Tune\n",
    "Log trials_per trials_per file_name log{sim}.txt\n",
    "CPUTime trials_per trials_per file_name cpu{sim}.txt\n",
    "Movie trials_per trials_per file_name movie{sim}.xyz clear_file True\n",
    "CheckEnergy trials_per trials_per tolerance 1e-8\n",
    "AnalyzeCluster trials_per_write trials_per file_name cluster{sim}.txt\n",
    "Run num_trials 1e5\n",
    "\"\"\".format(**params)\n",
    "    \n",
    "    with open('script.txt', 'w') as file: file.write(script)\n",
    "    import subprocess\n",
    "    syscode = subprocess.call(\"../../../build/bin/fst < script.txt > script.log\", shell=True, executable='/bin/bash')\n",
    "    with open('script.log', 'r') as file: print(file.read(), '\\n', 'exit:', syscode)"
   ]
  },
  {
   "cell_type": "code",
   "execution_count": 2,
   "metadata": {},
   "outputs": [
    {
     "name": "stderr",
     "output_type": "stream",
     "text": [
      "test (__main__.TestRigidCluster) ... "
     ]
    },
    {
     "name": "stdout",
     "output_type": "stream",
     "text": [
      "0    24.154657\n",
      "Name: average, dtype: float64\n"
     ]
    },
    {
     "name": "stderr",
     "output_type": "stream",
     "text": [
      "ok\n",
      "\n",
      "----------------------------------------------------------------------\n",
      "Ran 1 test in 0.004s\n",
      "\n",
      "OK\n"
     ]
    },
    {
     "data": {
      "text/plain": [
       "<unittest.main.TestProgram at 0x7f4150a8cbe0>"
      ]
     },
     "execution_count": 2,
     "metadata": {},
     "output_type": "execute_result"
    }
   ],
   "source": [
    "import unittest\n",
    "# #import math\n",
    "import pandas as pd\n",
    "\n",
    "class TestRigidCluster(unittest.TestCase):\n",
    "    def test(self):\n",
    "#         end_to_end=pd.read_csv('end_to_end.txt')\n",
    "#         self.assertAlmostEqual(end_to_end['average'][0], math.sqrt(params['num_monomers']), delta=20)\n",
    "#         rg=pd.read_csv('rg.txt')\n",
    "#         self.assertAlmostEqual(rg['average'][0], params['num_monomers']/6, delta=200)\n",
    "        \n",
    "        # With rigid cluster moves only, clusters cannot coalesce or break up.\n",
    "        # So the clusters in the original configuration remain.\n",
    "        for sim in [3]:\n",
    "            if sim == 3:\n",
    "                cluster=pd.read_csv('cluster3.txt')\n",
    "                print(cluster['average'])\n",
    "                assert(cluster['average'][0] > 8)\n",
    "unittest.main(argv=[''], verbosity=2, exit=False)"
   ]
  },
  {
   "cell_type": "markdown",
   "metadata": {},
   "source": [
    "Take a look at the cpu files. Sim 1 is faster than sim 2 because cluster moves are more expensive. Even when clusters are small, energy map book keeping and cluster calculations can be slow compared to a simple LJ potential.\n",
    "\n",
    "Sim 3 is even slower than sim 2 because sim 3 forms larger clusters. Each step moves many particles and is more expensive.\n",
    "\n",
    "Note that, even if sim 3 takes the longest time to complete a given number of steps, it can still be considered the most efficient sim due to improved sampling. Essentially, sims 1 and 2 are non ergodic and get trapped in a particular region of phase space, while sim 3 can sample all of phase space."
   ]
  }
 ],
 "metadata": {
  "kernelspec": {
   "display_name": "Python 3",
   "language": "python",
   "name": "python3"
  },
  "language_info": {
   "codemirror_mode": {
    "name": "ipython",
    "version": 3
   },
   "file_extension": ".py",
   "mimetype": "text/x-python",
   "name": "python",
   "nbconvert_exporter": "python",
   "pygments_lexer": "ipython3",
   "version": "3.8.10"
  }
 },
 "nbformat": 4,
 "nbformat_minor": 2
}
