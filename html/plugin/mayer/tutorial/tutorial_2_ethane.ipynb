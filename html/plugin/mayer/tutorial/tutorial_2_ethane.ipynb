{
 "cells": [
  {
   "cell_type": "markdown",
   "metadata": {},
   "source": [
    "# Second virial coefficient calculation of TraPPE ethane using Mayer-Sampling\n",
    "\n",
    "\n",
    "Here, we reproduce the virial coefficient of TraPPE ethane\n",
    "\n",
    "Table 6 of https://doi.org/10.1021/jp972543+ reports -73 +/- 1 ml/mol at 423.2K"
   ]
  },
  {
   "cell_type": "code",
   "execution_count": 1,
   "metadata": {},
   "outputs": [
    {
     "name": "stdout",
     "output_type": "stream",
     "text": [
      "# FEASST version: v0.19.0-104-gc3a7e003a2-dirty-user/newtutorials\n",
      "Configuration add_particles_of_type0 2 cubic_side_length 1e100 cutoff 1e4 first_particle_index 0 group0 first particle_type0 ethane_with_ref.fstprt  \n",
      "Potential Model LennardJones  \n",
      "RefPotential Model HardSphere sigma0 4 sigma1 0  \n",
      "ThermoParams beta 0.0023629489603024575  \n",
      "MayerSampling  \n",
      "TrialTranslate group first new_only true reference_index 0 tunable_param 0.1  \n",
      "TrialRotate new_only true reference_index 0 tunable_param 40  \n",
      "CriteriaWriter output_file ethane_b2.txt trials_per 1e5  \n",
      "Log output_file ethane.txt trials_per 1e5  \n",
      "Movie output_file ethane.xyz trials_per 1e5  \n",
      "Tune  \n",
      "Run num_trials 1e5  \n",
      "# initializing random number generator with seed: 1653572948\n",
      "Remove name Tune  \n",
      "Run num_trials 1e6  \n",
      "MayerSampling  \n",
      "Run num_trials 1e7  \n",
      " \n",
      " exit: 0\n"
     ]
    }
   ],
   "source": [
    "params={\"beta\": 1./423.2} # 1/K\n",
    "\n",
    "script=\"\"\"\n",
    "MonteCarlo\n",
    "Configuration cubic_side_length 1e100 particle_type0 ethane_with_ref.fstprt \\\n",
    "    add_particles_of_type0 2 cutoff 1e4 \\\n",
    "    group0 first first_particle_index 0\n",
    "Potential Model LennardJones\n",
    "RefPotential Model HardSphere sigma0 4 sigma1 0\n",
    "ThermoParams beta {beta}\n",
    "MayerSampling\n",
    "TrialTranslate new_only true reference_index 0 tunable_param 0.1 group first\n",
    "TrialRotate new_only true reference_index 0 tunable_param 40\n",
    "set_variable trials_per 1e5\n",
    "CriteriaWriter trials_per_write trials_per output_file ethane_b2.txt\n",
    "Log trials_per_write trials_per output_file ethane.txt\n",
    "Movie trials_per_write trials_per output_file ethane.xyz\n",
    "\n",
    "# tune trial parameters\n",
    "Tune\n",
    "Run num_trials 1e5\n",
    "Remove name Tune\n",
    "\n",
    "# equilibrate\n",
    "Run num_trials 1e6\n",
    "\n",
    "# production\n",
    "MayerSampling\n",
    "Run num_trials 1e7\n",
    "\"\"\".format(**params)\n",
    "\n",
    "with open('script2.txt', 'w') as file: file.write(script)\n",
    "import subprocess\n",
    "syscode = subprocess.call(\"../../../build/bin/fst < script2.txt > script2.log\", shell=True, executable='/bin/bash')\n",
    "with open('script2.log', 'r') as file: print(file.read(), '\\n', 'exit:', syscode)"
   ]
  },
  {
   "cell_type": "code",
   "execution_count": 3,
   "metadata": {},
   "outputs": [
    {
     "name": "stderr",
     "output_type": "stream",
     "text": [
      "test (__main__.TestMayerSamplingTraPPEethane) ... "
     ]
    },
    {
     "name": "stdout",
     "output_type": "stream",
     "text": [
      "{'second_virial_ratio': -0.908299, 'second_virial_ratio_block_stdev': 0.00480318}\n",
      "b22(L/mol) -60.41324381361913\n",
      "b22_block_stdev(L/mol) 0.319471544525205\n"
     ]
    },
    {
     "name": "stderr",
     "output_type": "stream",
     "text": [
      "ok\n",
      "\n",
      "----------------------------------------------------------------------\n",
      "Ran 1 test in 0.002s\n",
      "\n",
      "OK\n"
     ]
    },
    {
     "data": {
      "text/plain": [
       "<unittest.main.TestProgram at 0x7fe7d825e670>"
      ]
     },
     "execution_count": 3,
     "metadata": {},
     "output_type": "execute_result"
    }
   ],
   "source": [
    "import math\n",
    "import unittest\n",
    "class TestMayerSamplingTraPPEethane(unittest.TestCase):\n",
    "    def test(self): \n",
    "        with open(\"ethane_b2.txt\") as f:\n",
    "            firstline = f.readline().rstrip()\n",
    "            #print(firstline)\n",
    "            b2=eval(firstline)\n",
    "            print(b2)\n",
    "            b2hs = 2./3.*math.pi*3.75**3  # A^3\n",
    "            b2hs *= 1e-30*1e3*1e3*6.02214076E+23 # L/mol\n",
    "            print('b22(L/mol)', b2hs*b2['second_virial_ratio'])\n",
    "            print('b22_block_stdev(L/mol)', b2hs*b2['second_virial_ratio_block_stdev'])\n",
    "            self.assertAlmostEqual(-63, b2hs*b2['second_virial_ratio'],\n",
    "                                   delta=20*b2hs*b2['second_virial_ratio_block_stdev'])\n",
    "unittest.main(argv=[''], verbosity=2, exit=False)"
   ]
  },
  {
   "cell_type": "markdown",
   "metadata": {},
   "source": [
    "Did this tutorial work as expected? Did you find any inconsistencies or have any comments? Please [contact](../../../CONTACT.rst) us. Any feedback is appreciated!"
   ]
  }
 ],
 "metadata": {
  "kernelspec": {
   "display_name": "Python 3 (ipykernel)",
   "language": "python",
   "name": "python3"
  },
  "language_info": {
   "codemirror_mode": {
    "name": "ipython",
    "version": 3
   },
   "file_extension": ".py",
   "mimetype": "text/x-python",
   "name": "python",
   "nbconvert_exporter": "python",
   "pygments_lexer": "ipython3",
   "version": "3.10.6"
  }
 },
 "nbformat": 4,
 "nbformat_minor": 2
}
